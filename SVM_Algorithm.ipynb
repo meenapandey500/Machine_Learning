{
 "cells": [
  {
   "cell_type": "code",
   "execution_count": 1,
   "id": "a89bcd3e",
   "metadata": {},
   "outputs": [],
   "source": [
    "#third algorithm of classification :-\n",
    "#SVM : Support vector machine : -\n",
    "#There are 3 types of Kernal function of SVM\n",
    "#1. Linear SVC  : use for linear data\n",
    "#Non-Linear data\n",
    "#2. polynomial kernal function : increase the low dimension to high dimension\n",
    "#3. radial basis kernal function\n",
    "\n",
    "#here 2. polynomial kernal function :\n",
    "#increase the low dimension to high dimension\n",
    "#3. radial basis kernal function  both are non-linear data\n",
    "\n"
   ]
  },
  {
   "cell_type": "code",
   "execution_count": 2,
   "id": "4b0d5c16",
   "metadata": {},
   "outputs": [],
   "source": [
    "#SVM :  it is classification Supervised Machine Learning Algorithm .\n",
    "#Support vector mactor , It is used to classify yes or no , 1 or 0 or\n",
    "#multiclass classifier \n",
    "#means its classified categorical data \n",
    "#we use dataset mobile.csv\n",
    "\n",
    "import numpy as np\n",
    "import pandas as pd\n",
    "import matplotlib.pyplot as plt\n",
    "import seaborn as sns\n",
    "import warnings\n",
    "warnings.filterwarnings('ignore')"
   ]
  },
  {
   "cell_type": "code",
   "execution_count": 3,
   "id": "6a2538a0",
   "metadata": {},
   "outputs": [
    {
     "data": {
      "text/html": [
       "<div>\n",
       "<style scoped>\n",
       "    .dataframe tbody tr th:only-of-type {\n",
       "        vertical-align: middle;\n",
       "    }\n",
       "\n",
       "    .dataframe tbody tr th {\n",
       "        vertical-align: top;\n",
       "    }\n",
       "\n",
       "    .dataframe thead th {\n",
       "        text-align: right;\n",
       "    }\n",
       "</style>\n",
       "<table border=\"1\" class=\"dataframe\">\n",
       "  <thead>\n",
       "    <tr style=\"text-align: right;\">\n",
       "      <th></th>\n",
       "      <th>age</th>\n",
       "      <th>job</th>\n",
       "      <th>marital</th>\n",
       "      <th>education</th>\n",
       "      <th>default</th>\n",
       "      <th>balance</th>\n",
       "      <th>housing</th>\n",
       "      <th>loan</th>\n",
       "      <th>contact</th>\n",
       "      <th>day</th>\n",
       "      <th>month</th>\n",
       "      <th>duration</th>\n",
       "      <th>campaign</th>\n",
       "      <th>pdays</th>\n",
       "      <th>previous</th>\n",
       "      <th>poutcome</th>\n",
       "      <th>deposit</th>\n",
       "    </tr>\n",
       "  </thead>\n",
       "  <tbody>\n",
       "    <tr>\n",
       "      <th>0</th>\n",
       "      <td>59</td>\n",
       "      <td>0</td>\n",
       "      <td>1</td>\n",
       "      <td>1</td>\n",
       "      <td>0</td>\n",
       "      <td>2343</td>\n",
       "      <td>1</td>\n",
       "      <td>0</td>\n",
       "      <td>2</td>\n",
       "      <td>5</td>\n",
       "      <td>8</td>\n",
       "      <td>1042</td>\n",
       "      <td>1</td>\n",
       "      <td>-1</td>\n",
       "      <td>0</td>\n",
       "      <td>3</td>\n",
       "      <td>1</td>\n",
       "    </tr>\n",
       "    <tr>\n",
       "      <th>1</th>\n",
       "      <td>56</td>\n",
       "      <td>0</td>\n",
       "      <td>1</td>\n",
       "      <td>1</td>\n",
       "      <td>0</td>\n",
       "      <td>45</td>\n",
       "      <td>0</td>\n",
       "      <td>0</td>\n",
       "      <td>2</td>\n",
       "      <td>5</td>\n",
       "      <td>8</td>\n",
       "      <td>1467</td>\n",
       "      <td>1</td>\n",
       "      <td>-1</td>\n",
       "      <td>0</td>\n",
       "      <td>3</td>\n",
       "      <td>1</td>\n",
       "    </tr>\n",
       "    <tr>\n",
       "      <th>2</th>\n",
       "      <td>41</td>\n",
       "      <td>9</td>\n",
       "      <td>1</td>\n",
       "      <td>1</td>\n",
       "      <td>0</td>\n",
       "      <td>1270</td>\n",
       "      <td>1</td>\n",
       "      <td>0</td>\n",
       "      <td>2</td>\n",
       "      <td>5</td>\n",
       "      <td>8</td>\n",
       "      <td>1389</td>\n",
       "      <td>1</td>\n",
       "      <td>-1</td>\n",
       "      <td>0</td>\n",
       "      <td>3</td>\n",
       "      <td>1</td>\n",
       "    </tr>\n",
       "    <tr>\n",
       "      <th>3</th>\n",
       "      <td>55</td>\n",
       "      <td>7</td>\n",
       "      <td>1</td>\n",
       "      <td>1</td>\n",
       "      <td>0</td>\n",
       "      <td>2476</td>\n",
       "      <td>1</td>\n",
       "      <td>0</td>\n",
       "      <td>2</td>\n",
       "      <td>5</td>\n",
       "      <td>8</td>\n",
       "      <td>579</td>\n",
       "      <td>1</td>\n",
       "      <td>-1</td>\n",
       "      <td>0</td>\n",
       "      <td>3</td>\n",
       "      <td>1</td>\n",
       "    </tr>\n",
       "    <tr>\n",
       "      <th>4</th>\n",
       "      <td>54</td>\n",
       "      <td>0</td>\n",
       "      <td>1</td>\n",
       "      <td>2</td>\n",
       "      <td>0</td>\n",
       "      <td>184</td>\n",
       "      <td>0</td>\n",
       "      <td>0</td>\n",
       "      <td>2</td>\n",
       "      <td>5</td>\n",
       "      <td>8</td>\n",
       "      <td>673</td>\n",
       "      <td>2</td>\n",
       "      <td>-1</td>\n",
       "      <td>0</td>\n",
       "      <td>3</td>\n",
       "      <td>1</td>\n",
       "    </tr>\n",
       "  </tbody>\n",
       "</table>\n",
       "</div>"
      ],
      "text/plain": [
       "   age  job  marital  education  default  balance  housing  loan  contact  \\\n",
       "0   59    0        1          1        0     2343        1     0        2   \n",
       "1   56    0        1          1        0       45        0     0        2   \n",
       "2   41    9        1          1        0     1270        1     0        2   \n",
       "3   55    7        1          1        0     2476        1     0        2   \n",
       "4   54    0        1          2        0      184        0     0        2   \n",
       "\n",
       "   day  month  duration  campaign  pdays  previous  poutcome  deposit  \n",
       "0    5      8      1042         1     -1         0         3        1  \n",
       "1    5      8      1467         1     -1         0         3        1  \n",
       "2    5      8      1389         1     -1         0         3        1  \n",
       "3    5      8       579         1     -1         0         3        1  \n",
       "4    5      8       673         2     -1         0         3        1  "
      ]
     },
     "execution_count": 3,
     "metadata": {},
     "output_type": "execute_result"
    }
   ],
   "source": [
    "#to load dataset \n",
    "#df=pd.read_csv(\"mobile.csv\")\n",
    "df=pd.read_csv(\"bank.csv\")\n",
    "df.head()"
   ]
  },
  {
   "cell_type": "code",
   "execution_count": 4,
   "id": "4ede9fd7",
   "metadata": {},
   "outputs": [
    {
     "data": {
      "text/plain": [
       "' Basically company wants to launch their smart phone into the market ,\\nBut they want to take a decision  whether they should keep the price more \\nthan 50000 or less than 50000 / - then It is the premium phone and it is less \\nthan 50000 than it is the normal phone .'"
      ]
     },
     "execution_count": 4,
     "metadata": {},
     "output_type": "execute_result"
    }
   ],
   "source": [
    "#Problem case study : - \n",
    "''' Basically company wants to launch their smart phone into the market ,\n",
    "But they want to take a decision  whether they should keep the price more \n",
    "than 50000 or less than 50000 / - then It is the premium phone and it is less \n",
    "than 50000 than it is the normal phone .'''\n",
    "\n",
    "#here target variable:  price_range  Whether the phone is premium means\n",
    "#price_range>50000 or normal phone means price_range<50000 so that my target\n",
    "#price_range=0 means <50000 and price_range=1 means >50000\n"
   ]
  },
  {
   "cell_type": "code",
   "execution_count": 5,
   "id": "7ac20946",
   "metadata": {},
   "outputs": [
    {
     "data": {
      "text/plain": [
       "age          0\n",
       "job          0\n",
       "marital      0\n",
       "education    0\n",
       "default      0\n",
       "balance      0\n",
       "housing      0\n",
       "loan         0\n",
       "contact      0\n",
       "day          0\n",
       "month        0\n",
       "duration     0\n",
       "campaign     0\n",
       "pdays        0\n",
       "previous     0\n",
       "poutcome     0\n",
       "deposit      0\n",
       "dtype: int64"
      ]
     },
     "execution_count": 5,
     "metadata": {},
     "output_type": "execute_result"
    }
   ],
   "source": [
    "#check null values\n",
    "df.isnull().sum()"
   ]
  },
  {
   "cell_type": "code",
   "execution_count": 6,
   "id": "0fb7381d",
   "metadata": {},
   "outputs": [
    {
     "name": "stdout",
     "output_type": "stream",
     "text": [
      "<class 'pandas.core.frame.DataFrame'>\n",
      "RangeIndex: 11162 entries, 0 to 11161\n",
      "Data columns (total 17 columns):\n",
      " #   Column     Non-Null Count  Dtype\n",
      "---  ------     --------------  -----\n",
      " 0   age        11162 non-null  int64\n",
      " 1   job        11162 non-null  int64\n",
      " 2   marital    11162 non-null  int64\n",
      " 3   education  11162 non-null  int64\n",
      " 4   default    11162 non-null  int64\n",
      " 5   balance    11162 non-null  int64\n",
      " 6   housing    11162 non-null  int64\n",
      " 7   loan       11162 non-null  int64\n",
      " 8   contact    11162 non-null  int64\n",
      " 9   day        11162 non-null  int64\n",
      " 10  month      11162 non-null  int64\n",
      " 11  duration   11162 non-null  int64\n",
      " 12  campaign   11162 non-null  int64\n",
      " 13  pdays      11162 non-null  int64\n",
      " 14  previous   11162 non-null  int64\n",
      " 15  poutcome   11162 non-null  int64\n",
      " 16  deposit    11162 non-null  int64\n",
      "dtypes: int64(17)\n",
      "memory usage: 1.4 MB\n"
     ]
    }
   ],
   "source": [
    "df.info()"
   ]
  },
  {
   "cell_type": "code",
   "execution_count": 7,
   "id": "59cf386e",
   "metadata": {},
   "outputs": [],
   "source": [
    "#separate X and Y means Input and output (Labelled means target)\n",
    "X=df.drop(\"deposit\",axis=1) #input features\n",
    "Y=df[\"deposit\"] #output means target which want to predict"
   ]
  },
  {
   "cell_type": "code",
   "execution_count": 8,
   "id": "037741b9",
   "metadata": {},
   "outputs": [],
   "source": [
    "#Train_Test_Split : 70% & 30%\n",
    "from sklearn.model_selection import train_test_split\n",
    "\n",
    "#Split our dataset in train test of 70% & 30%\n",
    "X_train,X_test,Y_train,Y_test=train_test_split(X,Y,test_size=0.3,random_state=1)"
   ]
  },
  {
   "cell_type": "code",
   "execution_count": 9,
   "id": "0ce4dc25",
   "metadata": {},
   "outputs": [],
   "source": [
    "from sklearn.preprocessing import StandardScaler"
   ]
  },
  {
   "cell_type": "code",
   "execution_count": 10,
   "id": "0d0f0909",
   "metadata": {},
   "outputs": [],
   "source": [
    "#create object of StandardScaler\n",
    "ss=StandardScaler()\n",
    "X_train=ss.fit_transform(X_train) #training data\n",
    "X_test=ss.transform(X_test) #testing data"
   ]
  },
  {
   "cell_type": "code",
   "execution_count": 11,
   "id": "9240340e",
   "metadata": {},
   "outputs": [],
   "source": [
    "#create function \n",
    "def create_model(model):\n",
    "    model.fit(X_train,Y_train)\n",
    "    Y_pred=model.predict(X_test)\n",
    "    print(classification_report(Y_test,Y_pred))\n",
    "    print(confusion_matrix(Y_test,Y_pred))\n",
    "    return model"
   ]
  },
  {
   "cell_type": "code",
   "execution_count": 12,
   "id": "66a39360",
   "metadata": {},
   "outputs": [],
   "source": [
    "#Base Line Model : Take Logistic Regression \n",
    "from sklearn.linear_model import LogisticRegression \n",
    "from sklearn.metrics import classification_report\n",
    "from sklearn.metrics import confusion_matrix"
   ]
  },
  {
   "cell_type": "code",
   "execution_count": 13,
   "id": "a29489e1",
   "metadata": {},
   "outputs": [],
   "source": [
    "#Create the object of LogisticRegression class\n",
    "lr=LogisticRegression ()"
   ]
  },
  {
   "cell_type": "code",
   "execution_count": 14,
   "id": "ec6b043a",
   "metadata": {},
   "outputs": [
    {
     "name": "stdout",
     "output_type": "stream",
     "text": [
      "              precision    recall  f1-score   support\n",
      "\n",
      "           0       0.80      0.82      0.81      1760\n",
      "           1       0.79      0.77      0.78      1589\n",
      "\n",
      "    accuracy                           0.80      3349\n",
      "   macro avg       0.80      0.80      0.80      3349\n",
      "weighted avg       0.80      0.80      0.80      3349\n",
      "\n",
      "[[1441  319]\n",
      " [ 359 1230]]\n"
     ]
    }
   ],
   "source": [
    "#call function\n",
    "lr=create_model(lr)"
   ]
  },
  {
   "cell_type": "code",
   "execution_count": 15,
   "id": "22715c9f",
   "metadata": {},
   "outputs": [
    {
     "data": {
      "text/plain": [
       "'There are various kernel functions :\\n1. Linear Kernel function (use linear separated data)\\n2. polynomial kernel function (non-linearly)\\n3. radial basis kernel function (non-linearly)'"
      ]
     },
     "execution_count": 15,
     "metadata": {},
     "output_type": "execute_result"
    }
   ],
   "source": [
    "#Support Vector machine : -\n",
    "#Use SVM : support vector machine : this is a classification supervised learning\n",
    "#algo.\n",
    "'''There are various kernel functions :\n",
    "1. Linear Kernel function (use linear separated data)\n",
    "2. polynomial kernel function (non-linearly)\n",
    "3. radial basis kernel function (non-linearly)'''"
   ]
  },
  {
   "cell_type": "code",
   "execution_count": 16,
   "id": "07117cab",
   "metadata": {},
   "outputs": [],
   "source": [
    "# Linear Kernel function means data is linearly separatable\n",
    "#use inbuilt class LinearSVC which define in svm inbuilt package\n",
    "from sklearn.svm import LinearSVC \n",
    "#Support vector classifier : SVC\n",
    "#create the object of LinearSVC  class\n",
    "svc=LinearSVC(random_state=1) #by default  hard margin means no add any error\n",
    "#on training time"
   ]
  },
  {
   "cell_type": "code",
   "execution_count": 17,
   "id": "98c32094",
   "metadata": {},
   "outputs": [
    {
     "name": "stdout",
     "output_type": "stream",
     "text": [
      "              precision    recall  f1-score   support\n",
      "\n",
      "           0       0.80      0.82      0.81      1760\n",
      "           1       0.79      0.77      0.78      1589\n",
      "\n",
      "    accuracy                           0.80      3349\n",
      "   macro avg       0.80      0.80      0.80      3349\n",
      "weighted avg       0.80      0.80      0.80      3349\n",
      "\n",
      "[[1444  316]\n",
      " [ 364 1225]]\n"
     ]
    }
   ],
   "source": [
    "#call function \n",
    "svc=create_model(svc)"
   ]
  },
  {
   "cell_type": "code",
   "execution_count": 22,
   "id": "3af2f388",
   "metadata": {},
   "outputs": [],
   "source": [
    "##score not bad but try its better \n",
    "#Apply soft margin means add externally error on training time\n",
    "#create the object of inbuilt class LinearSVC  and passing parameter C\n",
    "#for error\n",
    "svc1=LinearSVC(random_state=1,C=0.08) #soft margin\n",
    "#Range of C : 0.01 - 0.9\n",
    "#soft margin means to reduced overfitting situation and remove outlier\n",
    "#C is parameter which is used to add error on training time"
   ]
  },
  {
   "cell_type": "code",
   "execution_count": 23,
   "id": "85ef20a2",
   "metadata": {},
   "outputs": [
    {
     "name": "stdout",
     "output_type": "stream",
     "text": [
      "              precision    recall  f1-score   support\n",
      "\n",
      "           0       0.80      0.82      0.81      1760\n",
      "           1       0.80      0.77      0.78      1589\n",
      "\n",
      "    accuracy                           0.80      3349\n",
      "   macro avg       0.80      0.80      0.80      3349\n",
      "weighted avg       0.80      0.80      0.80      3349\n",
      "\n",
      "[[1446  314]\n",
      " [ 363 1226]]\n"
     ]
    }
   ],
   "source": [
    "#call function \n",
    "svc1=create_model(svc1)"
   ]
  },
  {
   "cell_type": "code",
   "execution_count": null,
   "id": "56be9f6e",
   "metadata": {},
   "outputs": [],
   "source": [
    "#Here if add external error on runtime but no changes in score means no \n",
    "#effect on score\n",
    "#means we have data is non-linear data  , not linear dataset \n",
    "#So we will use polynomial kernel function means increase the dimension means\n",
    "#to converts low dimension data into high dimension means if plot 1D then\n",
    "#converting into 2D dimension and so on ."
   ]
  },
  {
   "cell_type": "code",
   "execution_count": 24,
   "id": "fbf3e9d8",
   "metadata": {},
   "outputs": [],
   "source": [
    "#2. polynomial Kernel function of SVM so, use inbuilt class SVC\n",
    "from sklearn.svm import SVC \n",
    "#SVC inbuilt class for non-linear data"
   ]
  },
  {
   "cell_type": "code",
   "execution_count": 25,
   "id": "359f1bb5",
   "metadata": {},
   "outputs": [],
   "source": [
    "#create the object of SVC class\n",
    "poly_svc=SVC(random_state=1,kernel=\"poly\")"
   ]
  },
  {
   "cell_type": "code",
   "execution_count": 26,
   "id": "adac1091",
   "metadata": {},
   "outputs": [
    {
     "name": "stdout",
     "output_type": "stream",
     "text": [
      "              precision    recall  f1-score   support\n",
      "\n",
      "           0       0.82      0.81      0.81      1760\n",
      "           1       0.79      0.80      0.80      1589\n",
      "\n",
      "    accuracy                           0.80      3349\n",
      "   macro avg       0.80      0.80      0.80      3349\n",
      "weighted avg       0.81      0.80      0.80      3349\n",
      "\n",
      "[[1417  343]\n",
      " [ 311 1278]]\n"
     ]
    }
   ],
   "source": [
    "#call function \n",
    "poly_svc=create_model(poly_svc)"
   ]
  },
  {
   "cell_type": "code",
   "execution_count": 27,
   "id": "266ea190",
   "metadata": {},
   "outputs": [],
   "source": [
    "#create the object of SVC class\n",
    "r_svc=SVC(random_state=1,kernel=\"rbf\")\n",
    "#rbf means radial basis function\n"
   ]
  },
  {
   "cell_type": "code",
   "execution_count": 28,
   "id": "cb1856df",
   "metadata": {},
   "outputs": [
    {
     "name": "stdout",
     "output_type": "stream",
     "text": [
      "              precision    recall  f1-score   support\n",
      "\n",
      "           0       0.84      0.80      0.82      1760\n",
      "           1       0.79      0.84      0.81      1589\n",
      "\n",
      "    accuracy                           0.82      3349\n",
      "   macro avg       0.82      0.82      0.82      3349\n",
      "weighted avg       0.82      0.82      0.82      3349\n",
      "\n",
      "[[1407  353]\n",
      " [ 262 1327]]\n"
     ]
    }
   ],
   "source": [
    "#call function \n",
    "r_svc=create_model(r_svc)"
   ]
  }
 ],
 "metadata": {
  "kernelspec": {
   "display_name": "Python 3",
   "language": "python",
   "name": "python3"
  },
  "language_info": {
   "codemirror_mode": {
    "name": "ipython",
    "version": 3
   },
   "file_extension": ".py",
   "mimetype": "text/x-python",
   "name": "python",
   "nbconvert_exporter": "python",
   "pygments_lexer": "ipython3",
   "version": "3.8.10"
  }
 },
 "nbformat": 4,
 "nbformat_minor": 5
}
