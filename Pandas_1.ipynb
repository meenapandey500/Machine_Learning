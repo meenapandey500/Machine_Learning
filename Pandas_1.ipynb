{
 "cells": [
  {
   "cell_type": "code",
   "execution_count": 1,
   "id": "b9438c16",
   "metadata": {},
   "outputs": [
    {
     "data": {
      "text/plain": [
       "'\\n1. Series() : also known as 1D array or vector means to store no. of rows\\nbut only column\\n2. DataFrame() :also known as 2D array means matrix means many rows and \\nin each row , many columns\\n3. panel() \" also known as 3D array means tensor\"\\n'"
      ]
     },
     "execution_count": 1,
     "metadata": {},
     "output_type": "execute_result"
    }
   ],
   "source": [
    "#pandas : -  \n",
    "#There are 3 types of Data Structure in pandas \n",
    "'''\n",
    "1. Series() : also known as 1D array or vector means to store no. of rows\n",
    "but only column\n",
    "2. DataFrame() :also known as 2D array means matrix means many rows and \n",
    "in each row , many columns\n",
    "3. panel() \" also known as 3D array means tensor\"\n",
    "'''"
   ]
  },
  {
   "cell_type": "code",
   "execution_count": 2,
   "id": "ab9f9120",
   "metadata": {},
   "outputs": [],
   "source": [
    "#First install pandas library  : it is open source library \n",
    "#means provides free of cost \n",
    "#first time install pandas library\n",
    "#!pip install pandas "
   ]
  },
  {
   "cell_type": "code",
   "execution_count": 3,
   "id": "bf1b3f8b",
   "metadata": {},
   "outputs": [],
   "source": [
    "import pandas as pd\n",
    "import warnings\n",
    "warnings.filterwarnings('ignore')"
   ]
  },
  {
   "cell_type": "code",
   "execution_count": 4,
   "id": "65730ce4",
   "metadata": {},
   "outputs": [
    {
     "data": {
      "text/plain": [
       "'1.2.4'"
      ]
     },
     "execution_count": 4,
     "metadata": {},
     "output_type": "execute_result"
    }
   ],
   "source": [
    "#to check the version of pandas\n",
    "pd.__version__"
   ]
  },
  {
   "cell_type": "code",
   "execution_count": 5,
   "id": "8b4dbc5d",
   "metadata": {},
   "outputs": [
    {
     "data": {
      "text/plain": [
       "'\\n1. Series : What is Series ?\\nIt is a 1 D array means one dimensional array means many rows means records\\nbut only one column amd column will be labelled \\nSeries is a homogeneous array\\nSize is immutable \\nvalues is mutable\\n'"
      ]
     },
     "execution_count": 5,
     "metadata": {},
     "output_type": "execute_result"
    }
   ],
   "source": [
    "#Series :\n",
    "'''\n",
    "1. Series : What is Series ?\n",
    "It is a 1 D array means one dimensional array means many rows means records\n",
    "but only one column amd column will be labelled \n",
    "Series is a homogeneous array\n",
    "Size is immutable \n",
    "values is mutable\n",
    "'''"
   ]
  },
  {
   "cell_type": "code",
   "execution_count": 6,
   "id": "9673e041",
   "metadata": {},
   "outputs": [
    {
     "name": "stdout",
     "output_type": "stream",
     "text": [
      "<class 'pandas.core.series.Series'>\n"
     ]
    }
   ],
   "source": [
    "#First create empty Series \n",
    "A=pd.Series()\n",
    "print(type(A))"
   ]
  },
  {
   "cell_type": "code",
   "execution_count": 7,
   "id": "2f9daac1",
   "metadata": {},
   "outputs": [
    {
     "name": "stdout",
     "output_type": "stream",
     "text": [
      "Series([], dtype: float64)\n"
     ]
    }
   ],
   "source": [
    "print(A)"
   ]
  },
  {
   "cell_type": "code",
   "execution_count": 8,
   "id": "3a6f4093",
   "metadata": {},
   "outputs": [
    {
     "name": "stdout",
     "output_type": "stream",
     "text": [
      "<class 'list'>\n"
     ]
    }
   ],
   "source": [
    "#create a Series with the help of List\n",
    "#First create a List L\n",
    "L=[56,78,98,45,39,54]\n",
    "print(type(L))"
   ]
  },
  {
   "cell_type": "code",
   "execution_count": 9,
   "id": "b8a62745",
   "metadata": {},
   "outputs": [
    {
     "name": "stdout",
     "output_type": "stream",
     "text": [
      "<class 'pandas.core.series.Series'>\n"
     ]
    }
   ],
   "source": [
    "#To convert List L into Series\n",
    "A=pd.Series(L)\n",
    "print(type(A))"
   ]
  },
  {
   "cell_type": "code",
   "execution_count": 10,
   "id": "2ce705b2",
   "metadata": {},
   "outputs": [
    {
     "name": "stdout",
     "output_type": "stream",
     "text": [
      "0    56\n",
      "1    78\n",
      "2    98\n",
      "3    45\n",
      "4    39\n",
      "5    54\n",
      "dtype: int64\n"
     ]
    }
   ],
   "source": [
    "print(A)"
   ]
  },
  {
   "cell_type": "code",
   "execution_count": 11,
   "id": "e55ca81c",
   "metadata": {},
   "outputs": [
    {
     "data": {
      "text/plain": [
       "(6,)"
      ]
     },
     "execution_count": 11,
     "metadata": {},
     "output_type": "execute_result"
    }
   ],
   "source": [
    "#to show no. of elements in Series A ,use inbuilt attributes shape\n",
    "A.shape"
   ]
  },
  {
   "cell_type": "code",
   "execution_count": 12,
   "id": "5d268f5a",
   "metadata": {},
   "outputs": [
    {
     "data": {
      "text/plain": [
       "0    56\n",
       "1    78\n",
       "2    98\n",
       "dtype: int64"
      ]
     },
     "execution_count": 12,
     "metadata": {},
     "output_type": "execute_result"
    }
   ],
   "source": [
    "#To access first 3 records from Series A\n",
    "A.head(3)  #bydefualt access first 5 records if not mension 3"
   ]
  },
  {
   "cell_type": "code",
   "execution_count": 13,
   "id": "7ab83627",
   "metadata": {},
   "outputs": [
    {
     "data": {
      "text/plain": [
       "0    56\n",
       "1    78\n",
       "2    98\n",
       "dtype: int64"
      ]
     },
     "execution_count": 13,
     "metadata": {},
     "output_type": "execute_result"
    }
   ],
   "source": [
    "#or use slicing \n",
    "A[:3] #start=0th index if not mension and stop=3-1=2nd index"
   ]
  },
  {
   "cell_type": "code",
   "execution_count": 14,
   "id": "b3da56a8",
   "metadata": {},
   "outputs": [
    {
     "data": {
      "text/plain": [
       "3    45\n",
       "4    39\n",
       "5    54\n",
       "dtype: int64"
      ]
     },
     "execution_count": 14,
     "metadata": {},
     "output_type": "execute_result"
    }
   ],
   "source": [
    "#to retrieve last 3 elements from Series A\n",
    "A[-3:] #start=-3rd index stop=till end step=+1"
   ]
  },
  {
   "cell_type": "code",
   "execution_count": 15,
   "id": "5c94730a",
   "metadata": {},
   "outputs": [
    {
     "data": {
      "text/plain": [
       "3    45\n",
       "4    39\n",
       "5    54\n",
       "dtype: int64"
      ]
     },
     "execution_count": 15,
     "metadata": {},
     "output_type": "execute_result"
    }
   ],
   "source": [
    "#or tail() : to show last 5 elements if not mension\n",
    "A.tail(3)"
   ]
  },
  {
   "cell_type": "code",
   "execution_count": 16,
   "id": "16ee017a",
   "metadata": {},
   "outputs": [
    {
     "data": {
      "text/plain": [
       "98"
      ]
     },
     "execution_count": 16,
     "metadata": {},
     "output_type": "execute_result"
    }
   ],
   "source": [
    "#retrieve 3rd element from series\n",
    "A[2]"
   ]
  },
  {
   "cell_type": "code",
   "execution_count": 17,
   "id": "28b1eb17",
   "metadata": {},
   "outputs": [
    {
     "data": {
      "text/plain": [
       "2    98\n",
       "5    54\n",
       "dtype: int64"
      ]
     },
     "execution_count": 17,
     "metadata": {},
     "output_type": "execute_result"
    }
   ],
   "source": [
    "#Access data at 3rd element(2nd index) and 6th element (5th index)only\n",
    "A[[2,5]] #multiple index : use []"
   ]
  },
  {
   "cell_type": "code",
   "execution_count": 18,
   "id": "dd07e624",
   "metadata": {},
   "outputs": [
    {
     "data": {
      "text/plain": [
       "0    56\n",
       "1    78\n",
       "2    98\n",
       "3    45\n",
       "4    39\n",
       "5    54\n",
       "dtype: int64"
      ]
     },
     "execution_count": 18,
     "metadata": {},
     "output_type": "execute_result"
    }
   ],
   "source": [
    "A"
   ]
  },
  {
   "cell_type": "code",
   "execution_count": 19,
   "id": "9ce1399f",
   "metadata": {},
   "outputs": [
    {
     "data": {
      "text/plain": [
       "a    90.00\n",
       "b    65.00\n",
       "c    67.00\n",
       "d    89.00\n",
       "e    34.56\n",
       "f    98.00\n",
       "dtype: float64"
      ]
     },
     "execution_count": 19,
     "metadata": {},
     "output_type": "execute_result"
    }
   ],
   "source": [
    "L=[90,65,67,89,34.56,98]\n",
    "i=['a','b','c','d','e','f'] \n",
    "A=pd.Series(L,index=i)\n",
    "A"
   ]
  },
  {
   "cell_type": "code",
   "execution_count": 20,
   "id": "b8cb120d",
   "metadata": {},
   "outputs": [
    {
     "data": {
      "text/plain": [
       "65.0"
      ]
     },
     "execution_count": 20,
     "metadata": {},
     "output_type": "execute_result"
    }
   ],
   "source": [
    "#Access value at 'b' index\n",
    "A['b']"
   ]
  },
  {
   "cell_type": "code",
   "execution_count": 21,
   "id": "70a92ebb",
   "metadata": {},
   "outputs": [
    {
     "data": {
      "text/plain": [
       "b    65.00\n",
       "e    34.56\n",
       "dtype: float64"
      ]
     },
     "execution_count": 21,
     "metadata": {},
     "output_type": "execute_result"
    }
   ],
   "source": [
    "#Access data at 'b' and 'e'\n",
    "A[['b','e']]"
   ]
  },
  {
   "cell_type": "code",
   "execution_count": 22,
   "id": "c66ecfb2",
   "metadata": {},
   "outputs": [],
   "source": [
    "import pandas as pd"
   ]
  },
  {
   "cell_type": "code",
   "execution_count": 23,
   "id": "3ae37e6a",
   "metadata": {},
   "outputs": [
    {
     "name": "stdout",
     "output_type": "stream",
     "text": [
      "{'name': 'deepak sharma', 'Age': 21, 'City': 'Mumbai', 'Mobile': 9827373371}\n"
     ]
    }
   ],
   "source": [
    "#first create dictionary \n",
    "dic={'name':'deepak sharma','Age':21,'City':'Mumbai','Mobile':9827373371}\n",
    "print(dic)"
   ]
  },
  {
   "cell_type": "code",
   "execution_count": 24,
   "id": "73ea5f04",
   "metadata": {},
   "outputs": [
    {
     "name": "stdout",
     "output_type": "stream",
     "text": [
      "<class 'pandas.core.series.Series'>\n",
      "name      deepak sharma\n",
      "Age                  21\n",
      "City             Mumbai\n",
      "Mobile       9827373371\n",
      "dtype: object\n"
     ]
    }
   ],
   "source": [
    "#Convert dictionary dic to Series \n",
    "X=pd.Series(dic)\n",
    "print(type(X))\n",
    "print(X)"
   ]
  },
  {
   "cell_type": "code",
   "execution_count": 25,
   "id": "41801059",
   "metadata": {},
   "outputs": [
    {
     "data": {
      "text/plain": [
       "'deepak sharma'"
      ]
     },
     "execution_count": 25,
     "metadata": {},
     "output_type": "execute_result"
    }
   ],
   "source": [
    "#Access name from series\n",
    "X['name']"
   ]
  },
  {
   "cell_type": "code",
   "execution_count": 26,
   "id": "d116c877",
   "metadata": {},
   "outputs": [
    {
     "data": {
      "text/plain": [
       "name      deepak sharma\n",
       "Mobile       9827373371\n",
       "dtype: object"
      ]
     },
     "execution_count": 26,
     "metadata": {},
     "output_type": "execute_result"
    }
   ],
   "source": [
    "#Access name and mobile of student from series\n",
    "X[['name','Mobile']]"
   ]
  },
  {
   "cell_type": "code",
   "execution_count": 27,
   "id": "0104a024",
   "metadata": {},
   "outputs": [
    {
     "data": {
      "text/plain": [
       "name    deepak sharma\n",
       "Age                21\n",
       "City           Mumbai\n",
       "dtype: object"
      ]
     },
     "execution_count": 27,
     "metadata": {},
     "output_type": "execute_result"
    }
   ],
   "source": [
    "#Access data from name to City \n",
    "X['name':'City']"
   ]
  },
  {
   "cell_type": "code",
   "execution_count": 28,
   "id": "d77c640b",
   "metadata": {},
   "outputs": [],
   "source": [
    "#DataFrame :  it is 2D array labelled array . it is hold many rows and in each\n",
    "#row, many columns .\n",
    "#It is heterogenous two columns can be same or different datatypes\n",
    "#Size is mutable means to add new columns in existing dataframe or\n",
    "#edit the columns\n",
    "#values is also mutable means editing is possible ."
   ]
  },
  {
   "cell_type": "code",
   "execution_count": 29,
   "id": "6a06d40f",
   "metadata": {},
   "outputs": [
    {
     "name": "stdout",
     "output_type": "stream",
     "text": [
      "[['Anu', 21, 'Bhopal'], ['Seema', 24, 'Indore'], ['Asha', 28, 'Pune'], ['Deepak', 19, 'Indore']]\n"
     ]
    }
   ],
   "source": [
    "#First create DataFrame with the help of nested list\n",
    "L=[['Anu',21,'Bhopal'],['Seema',24,'Indore'],['Asha',28,'Pune'],\n",
    "  ['Deepak',19,'Indore']]\n",
    "print(L)"
   ]
  },
  {
   "cell_type": "code",
   "execution_count": 30,
   "id": "bb785d1e",
   "metadata": {},
   "outputs": [
    {
     "data": {
      "text/html": [
       "<div>\n",
       "<style scoped>\n",
       "    .dataframe tbody tr th:only-of-type {\n",
       "        vertical-align: middle;\n",
       "    }\n",
       "\n",
       "    .dataframe tbody tr th {\n",
       "        vertical-align: top;\n",
       "    }\n",
       "\n",
       "    .dataframe thead th {\n",
       "        text-align: right;\n",
       "    }\n",
       "</style>\n",
       "<table border=\"1\" class=\"dataframe\">\n",
       "  <thead>\n",
       "    <tr style=\"text-align: right;\">\n",
       "      <th></th>\n",
       "      <th>name</th>\n",
       "      <th>Age</th>\n",
       "      <th>City</th>\n",
       "    </tr>\n",
       "  </thead>\n",
       "  <tbody>\n",
       "    <tr>\n",
       "      <th>0</th>\n",
       "      <td>Anu</td>\n",
       "      <td>21</td>\n",
       "      <td>Bhopal</td>\n",
       "    </tr>\n",
       "    <tr>\n",
       "      <th>1</th>\n",
       "      <td>Seema</td>\n",
       "      <td>24</td>\n",
       "      <td>Indore</td>\n",
       "    </tr>\n",
       "    <tr>\n",
       "      <th>2</th>\n",
       "      <td>Asha</td>\n",
       "      <td>28</td>\n",
       "      <td>Pune</td>\n",
       "    </tr>\n",
       "    <tr>\n",
       "      <th>3</th>\n",
       "      <td>Deepak</td>\n",
       "      <td>19</td>\n",
       "      <td>Indore</td>\n",
       "    </tr>\n",
       "  </tbody>\n",
       "</table>\n",
       "</div>"
      ],
      "text/plain": [
       "     name  Age    City\n",
       "0     Anu   21  Bhopal\n",
       "1   Seema   24  Indore\n",
       "2    Asha   28    Pune\n",
       "3  Deepak   19  Indore"
      ]
     },
     "execution_count": 30,
     "metadata": {},
     "output_type": "execute_result"
    }
   ],
   "source": [
    "#To converts this list into DataFrame\n",
    "student=pd.DataFrame(L,columns=['name','Age','City'])\n",
    "student"
   ]
  },
  {
   "cell_type": "code",
   "execution_count": 31,
   "id": "69287250",
   "metadata": {},
   "outputs": [
    {
     "name": "stdout",
     "output_type": "stream",
     "text": [
      "{'Name': ['Deepak', 'Rohan', 'Soma', 'Geeta'], 'Age': [23, 45, 21, 26], 'City': ['Mumbai', 'Pune', 'Mumbai', 'Indore'], 'Course': ['Python', 'R', 'SQL', 'Python']}\n"
     ]
    }
   ],
   "source": [
    "#create dataframe with the help of dictionary \n",
    "d={'Name':['Deepak','Rohan','Soma','Geeta'],'Age':[23,45,21,26],\n",
    "  'City':['Mumbai','Pune','Mumbai','Indore'],\n",
    "   'Course':['Python','R','SQL','Python']}\n",
    "print(d)"
   ]
  },
  {
   "cell_type": "code",
   "execution_count": 32,
   "id": "9cd421b9",
   "metadata": {},
   "outputs": [
    {
     "data": {
      "text/html": [
       "<div>\n",
       "<style scoped>\n",
       "    .dataframe tbody tr th:only-of-type {\n",
       "        vertical-align: middle;\n",
       "    }\n",
       "\n",
       "    .dataframe tbody tr th {\n",
       "        vertical-align: top;\n",
       "    }\n",
       "\n",
       "    .dataframe thead th {\n",
       "        text-align: right;\n",
       "    }\n",
       "</style>\n",
       "<table border=\"1\" class=\"dataframe\">\n",
       "  <thead>\n",
       "    <tr style=\"text-align: right;\">\n",
       "      <th></th>\n",
       "      <th>Name</th>\n",
       "      <th>Age</th>\n",
       "      <th>City</th>\n",
       "      <th>Course</th>\n",
       "    </tr>\n",
       "  </thead>\n",
       "  <tbody>\n",
       "    <tr>\n",
       "      <th>0</th>\n",
       "      <td>Deepak</td>\n",
       "      <td>23</td>\n",
       "      <td>Mumbai</td>\n",
       "      <td>Python</td>\n",
       "    </tr>\n",
       "    <tr>\n",
       "      <th>1</th>\n",
       "      <td>Rohan</td>\n",
       "      <td>45</td>\n",
       "      <td>Pune</td>\n",
       "      <td>R</td>\n",
       "    </tr>\n",
       "    <tr>\n",
       "      <th>2</th>\n",
       "      <td>Soma</td>\n",
       "      <td>21</td>\n",
       "      <td>Mumbai</td>\n",
       "      <td>SQL</td>\n",
       "    </tr>\n",
       "    <tr>\n",
       "      <th>3</th>\n",
       "      <td>Geeta</td>\n",
       "      <td>26</td>\n",
       "      <td>Indore</td>\n",
       "      <td>Python</td>\n",
       "    </tr>\n",
       "  </tbody>\n",
       "</table>\n",
       "</div>"
      ],
      "text/plain": [
       "     Name  Age    City  Course\n",
       "0  Deepak   23  Mumbai  Python\n",
       "1   Rohan   45    Pune       R\n",
       "2    Soma   21  Mumbai     SQL\n",
       "3   Geeta   26  Indore  Python"
      ]
     },
     "execution_count": 32,
     "metadata": {},
     "output_type": "execute_result"
    }
   ],
   "source": [
    "#converts into DataFrame\n",
    "student=pd.DataFrame(d)\n",
    "student"
   ]
  },
  {
   "cell_type": "code",
   "execution_count": 33,
   "id": "1aa28297",
   "metadata": {},
   "outputs": [
    {
     "data": {
      "text/plain": [
       "0    Deepak\n",
       "1     Rohan\n",
       "2      Soma\n",
       "3     Geeta\n",
       "Name: Name, dtype: object"
      ]
     },
     "execution_count": 33,
     "metadata": {},
     "output_type": "execute_result"
    }
   ],
   "source": [
    "#to access only name of all students from dataframe\n",
    "student['Name']"
   ]
  },
  {
   "cell_type": "code",
   "execution_count": 34,
   "id": "c9db69e4",
   "metadata": {},
   "outputs": [
    {
     "data": {
      "text/plain": [
       "0    Deepak\n",
       "1     Rohan\n",
       "2      Soma\n",
       "3     Geeta\n",
       "Name: Name, dtype: object"
      ]
     },
     "execution_count": 34,
     "metadata": {},
     "output_type": "execute_result"
    }
   ],
   "source": [
    "#or\n",
    "student.Name"
   ]
  },
  {
   "cell_type": "code",
   "execution_count": 35,
   "id": "e915c731",
   "metadata": {},
   "outputs": [
    {
     "data": {
      "text/html": [
       "<div>\n",
       "<style scoped>\n",
       "    .dataframe tbody tr th:only-of-type {\n",
       "        vertical-align: middle;\n",
       "    }\n",
       "\n",
       "    .dataframe tbody tr th {\n",
       "        vertical-align: top;\n",
       "    }\n",
       "\n",
       "    .dataframe thead th {\n",
       "        text-align: right;\n",
       "    }\n",
       "</style>\n",
       "<table border=\"1\" class=\"dataframe\">\n",
       "  <thead>\n",
       "    <tr style=\"text-align: right;\">\n",
       "      <th></th>\n",
       "      <th>Name</th>\n",
       "      <th>City</th>\n",
       "    </tr>\n",
       "  </thead>\n",
       "  <tbody>\n",
       "    <tr>\n",
       "      <th>0</th>\n",
       "      <td>Deepak</td>\n",
       "      <td>Mumbai</td>\n",
       "    </tr>\n",
       "    <tr>\n",
       "      <th>1</th>\n",
       "      <td>Rohan</td>\n",
       "      <td>Pune</td>\n",
       "    </tr>\n",
       "    <tr>\n",
       "      <th>2</th>\n",
       "      <td>Soma</td>\n",
       "      <td>Mumbai</td>\n",
       "    </tr>\n",
       "    <tr>\n",
       "      <th>3</th>\n",
       "      <td>Geeta</td>\n",
       "      <td>Indore</td>\n",
       "    </tr>\n",
       "  </tbody>\n",
       "</table>\n",
       "</div>"
      ],
      "text/plain": [
       "     Name    City\n",
       "0  Deepak  Mumbai\n",
       "1   Rohan    Pune\n",
       "2    Soma  Mumbai\n",
       "3   Geeta  Indore"
      ]
     },
     "execution_count": 35,
     "metadata": {},
     "output_type": "execute_result"
    }
   ],
   "source": [
    "#access Name and City of all students\n",
    "student[['Name','City']]"
   ]
  },
  {
   "cell_type": "code",
   "execution_count": 36,
   "id": "46fc75c7",
   "metadata": {},
   "outputs": [
    {
     "data": {
      "text/html": [
       "<div>\n",
       "<style scoped>\n",
       "    .dataframe tbody tr th:only-of-type {\n",
       "        vertical-align: middle;\n",
       "    }\n",
       "\n",
       "    .dataframe tbody tr th {\n",
       "        vertical-align: top;\n",
       "    }\n",
       "\n",
       "    .dataframe thead th {\n",
       "        text-align: right;\n",
       "    }\n",
       "</style>\n",
       "<table border=\"1\" class=\"dataframe\">\n",
       "  <thead>\n",
       "    <tr style=\"text-align: right;\">\n",
       "      <th></th>\n",
       "      <th>Name</th>\n",
       "      <th>Age</th>\n",
       "      <th>City</th>\n",
       "      <th>Course</th>\n",
       "    </tr>\n",
       "  </thead>\n",
       "  <tbody>\n",
       "    <tr>\n",
       "      <th>0</th>\n",
       "      <td>Deepak</td>\n",
       "      <td>23</td>\n",
       "      <td>Mumbai</td>\n",
       "      <td>Python</td>\n",
       "    </tr>\n",
       "    <tr>\n",
       "      <th>1</th>\n",
       "      <td>Rohan</td>\n",
       "      <td>45</td>\n",
       "      <td>Pune</td>\n",
       "      <td>R</td>\n",
       "    </tr>\n",
       "    <tr>\n",
       "      <th>2</th>\n",
       "      <td>Soma</td>\n",
       "      <td>21</td>\n",
       "      <td>Mumbai</td>\n",
       "      <td>SQL</td>\n",
       "    </tr>\n",
       "    <tr>\n",
       "      <th>3</th>\n",
       "      <td>Geeta</td>\n",
       "      <td>26</td>\n",
       "      <td>Indore</td>\n",
       "      <td>Python</td>\n",
       "    </tr>\n",
       "  </tbody>\n",
       "</table>\n",
       "</div>"
      ],
      "text/plain": [
       "     Name  Age    City  Course\n",
       "0  Deepak   23  Mumbai  Python\n",
       "1   Rohan   45    Pune       R\n",
       "2    Soma   21  Mumbai     SQL\n",
       "3   Geeta   26  Indore  Python"
      ]
     },
     "execution_count": 36,
     "metadata": {},
     "output_type": "execute_result"
    }
   ],
   "source": [
    "student"
   ]
  },
  {
   "cell_type": "code",
   "execution_count": 37,
   "id": "6a39f790",
   "metadata": {},
   "outputs": [
    {
     "data": {
      "text/plain": [
       "Name      Rohan\n",
       "Age          45\n",
       "City       Pune\n",
       "Course        R\n",
       "Name: 1, dtype: object"
      ]
     },
     "execution_count": 37,
     "metadata": {},
     "output_type": "execute_result"
    }
   ],
   "source": [
    "#Access all details of 2nd student means 1st row index\n",
    "#student[1] : error show\n",
    "student.iloc[1]"
   ]
  },
  {
   "cell_type": "code",
   "execution_count": 38,
   "id": "fa1161f4",
   "metadata": {},
   "outputs": [
    {
     "data": {
      "text/html": [
       "<div>\n",
       "<style scoped>\n",
       "    .dataframe tbody tr th:only-of-type {\n",
       "        vertical-align: middle;\n",
       "    }\n",
       "\n",
       "    .dataframe tbody tr th {\n",
       "        vertical-align: top;\n",
       "    }\n",
       "\n",
       "    .dataframe thead th {\n",
       "        text-align: right;\n",
       "    }\n",
       "</style>\n",
       "<table border=\"1\" class=\"dataframe\">\n",
       "  <thead>\n",
       "    <tr style=\"text-align: right;\">\n",
       "      <th></th>\n",
       "      <th>Name</th>\n",
       "      <th>Age</th>\n",
       "      <th>City</th>\n",
       "      <th>Course</th>\n",
       "    </tr>\n",
       "  </thead>\n",
       "  <tbody>\n",
       "    <tr>\n",
       "      <th>1</th>\n",
       "      <td>Rohan</td>\n",
       "      <td>45</td>\n",
       "      <td>Pune</td>\n",
       "      <td>R</td>\n",
       "    </tr>\n",
       "    <tr>\n",
       "      <th>3</th>\n",
       "      <td>Geeta</td>\n",
       "      <td>26</td>\n",
       "      <td>Indore</td>\n",
       "      <td>Python</td>\n",
       "    </tr>\n",
       "  </tbody>\n",
       "</table>\n",
       "</div>"
      ],
      "text/plain": [
       "    Name  Age    City  Course\n",
       "1  Rohan   45    Pune       R\n",
       "3  Geeta   26  Indore  Python"
      ]
     },
     "execution_count": 38,
     "metadata": {},
     "output_type": "execute_result"
    }
   ],
   "source": [
    "#Access all details of 2nd and 4th student means 1st row index and 3rd rowindex\n",
    "student.iloc[[1,3]]"
   ]
  },
  {
   "cell_type": "code",
   "execution_count": 39,
   "id": "e2aeff28",
   "metadata": {},
   "outputs": [],
   "source": [
    "#iloc : index location"
   ]
  },
  {
   "cell_type": "code",
   "execution_count": 40,
   "id": "d7b57d31",
   "metadata": {},
   "outputs": [
    {
     "data": {
      "text/html": [
       "<div>\n",
       "<style scoped>\n",
       "    .dataframe tbody tr th:only-of-type {\n",
       "        vertical-align: middle;\n",
       "    }\n",
       "\n",
       "    .dataframe tbody tr th {\n",
       "        vertical-align: top;\n",
       "    }\n",
       "\n",
       "    .dataframe thead th {\n",
       "        text-align: right;\n",
       "    }\n",
       "</style>\n",
       "<table border=\"1\" class=\"dataframe\">\n",
       "  <thead>\n",
       "    <tr style=\"text-align: right;\">\n",
       "      <th></th>\n",
       "      <th>Name</th>\n",
       "      <th>Age</th>\n",
       "      <th>City</th>\n",
       "      <th>Course</th>\n",
       "    </tr>\n",
       "  </thead>\n",
       "  <tbody>\n",
       "    <tr>\n",
       "      <th>0</th>\n",
       "      <td>Deepak</td>\n",
       "      <td>23</td>\n",
       "      <td>Mumbai</td>\n",
       "      <td>Python</td>\n",
       "    </tr>\n",
       "    <tr>\n",
       "      <th>1</th>\n",
       "      <td>Rohan</td>\n",
       "      <td>45</td>\n",
       "      <td>Pune</td>\n",
       "      <td>R</td>\n",
       "    </tr>\n",
       "    <tr>\n",
       "      <th>2</th>\n",
       "      <td>Soma</td>\n",
       "      <td>21</td>\n",
       "      <td>Mumbai</td>\n",
       "      <td>SQL</td>\n",
       "    </tr>\n",
       "    <tr>\n",
       "      <th>3</th>\n",
       "      <td>Geeta</td>\n",
       "      <td>26</td>\n",
       "      <td>Indore</td>\n",
       "      <td>Python</td>\n",
       "    </tr>\n",
       "  </tbody>\n",
       "</table>\n",
       "</div>"
      ],
      "text/plain": [
       "     Name  Age    City  Course\n",
       "0  Deepak   23  Mumbai  Python\n",
       "1   Rohan   45    Pune       R\n",
       "2    Soma   21  Mumbai     SQL\n",
       "3   Geeta   26  Indore  Python"
      ]
     },
     "execution_count": 40,
     "metadata": {},
     "output_type": "execute_result"
    }
   ],
   "source": [
    "student"
   ]
  },
  {
   "cell_type": "code",
   "execution_count": 41,
   "id": "d3b2e405",
   "metadata": {},
   "outputs": [
    {
     "data": {
      "text/plain": [
       "'Rohan'"
      ]
     },
     "execution_count": 41,
     "metadata": {},
     "output_type": "execute_result"
    }
   ],
   "source": [
    "#access name of 2nd student(1st rowindex)\n",
    "#student.iloc[1,\"Name\"] #show Error \n",
    "student.iloc[1,0] #[rowindex,colindex]"
   ]
  },
  {
   "cell_type": "code",
   "execution_count": 42,
   "id": "3d7afc3a",
   "metadata": {},
   "outputs": [
    {
     "data": {
      "text/plain": [
       "'Rohan'"
      ]
     },
     "execution_count": 42,
     "metadata": {},
     "output_type": "execute_result"
    }
   ],
   "source": [
    "student.loc[1,'Name']#loc[rowindex,'columnname']"
   ]
  },
  {
   "cell_type": "code",
   "execution_count": 43,
   "id": "67400b27",
   "metadata": {},
   "outputs": [
    {
     "data": {
      "text/plain": [
       "'Rohan'"
      ]
     },
     "execution_count": 43,
     "metadata": {},
     "output_type": "execute_result"
    }
   ],
   "source": [
    "student['Name'][1] #['columnname'][rowindex]"
   ]
  },
  {
   "cell_type": "code",
   "execution_count": 44,
   "id": "df1582f9",
   "metadata": {},
   "outputs": [
    {
     "data": {
      "text/plain": [
       "0    Python\n",
       "1         R\n",
       "2       SQL\n",
       "3    Python\n",
       "Name: Course, dtype: object"
      ]
     },
     "execution_count": 44,
     "metadata": {},
     "output_type": "execute_result"
    }
   ],
   "source": [
    "#to show last column of all students use slicing \n",
    "student.iloc[:,-1]"
   ]
  },
  {
   "cell_type": "code",
   "execution_count": 45,
   "id": "75e9dc1d",
   "metadata": {},
   "outputs": [
    {
     "data": {
      "text/html": [
       "<div>\n",
       "<style scoped>\n",
       "    .dataframe tbody tr th:only-of-type {\n",
       "        vertical-align: middle;\n",
       "    }\n",
       "\n",
       "    .dataframe tbody tr th {\n",
       "        vertical-align: top;\n",
       "    }\n",
       "\n",
       "    .dataframe thead th {\n",
       "        text-align: right;\n",
       "    }\n",
       "</style>\n",
       "<table border=\"1\" class=\"dataframe\">\n",
       "  <thead>\n",
       "    <tr style=\"text-align: right;\">\n",
       "      <th></th>\n",
       "      <th>Name</th>\n",
       "      <th>Age</th>\n",
       "      <th>City</th>\n",
       "    </tr>\n",
       "  </thead>\n",
       "  <tbody>\n",
       "    <tr>\n",
       "      <th>0</th>\n",
       "      <td>Deepak</td>\n",
       "      <td>23</td>\n",
       "      <td>Mumbai</td>\n",
       "    </tr>\n",
       "    <tr>\n",
       "      <th>1</th>\n",
       "      <td>Rohan</td>\n",
       "      <td>45</td>\n",
       "      <td>Pune</td>\n",
       "    </tr>\n",
       "    <tr>\n",
       "      <th>2</th>\n",
       "      <td>Soma</td>\n",
       "      <td>21</td>\n",
       "      <td>Mumbai</td>\n",
       "    </tr>\n",
       "    <tr>\n",
       "      <th>3</th>\n",
       "      <td>Geeta</td>\n",
       "      <td>26</td>\n",
       "      <td>Indore</td>\n",
       "    </tr>\n",
       "  </tbody>\n",
       "</table>\n",
       "</div>"
      ],
      "text/plain": [
       "     Name  Age    City\n",
       "0  Deepak   23  Mumbai\n",
       "1   Rohan   45    Pune\n",
       "2    Soma   21  Mumbai\n",
       "3   Geeta   26  Indore"
      ]
     },
     "execution_count": 45,
     "metadata": {},
     "output_type": "execute_result"
    }
   ],
   "source": [
    "#To show all details of all student except last column\n",
    "student.iloc[:,:-1]"
   ]
  },
  {
   "cell_type": "code",
   "execution_count": 46,
   "id": "fdb1a747",
   "metadata": {},
   "outputs": [
    {
     "data": {
      "text/plain": [
       "'\\nClipboard : it is temporary memory of system . Its hold only current data ,\\ndelete old one.\\n'"
      ]
     },
     "execution_count": 46,
     "metadata": {},
     "output_type": "execute_result"
    }
   ],
   "source": [
    "#Retrieve data from different sources :\n",
    "#1. from clipboard \n",
    "'''\n",
    "Clipboard : it is temporary memory of system . Its hold only current data ,\n",
    "delete old one.\n",
    "'''"
   ]
  },
  {
   "cell_type": "code",
   "execution_count": 47,
   "id": "a93f31db",
   "metadata": {},
   "outputs": [],
   "source": [
    "#use read_clipboard() : It is inbuilt method of pandas library . it is used\n",
    "#to read data from clipboard."
   ]
  },
  {
   "cell_type": "code",
   "execution_count": 48,
   "id": "521e1f85",
   "metadata": {},
   "outputs": [],
   "source": [
    "#match=pd.read_clipboard()\n",
    "#match"
   ]
  },
  {
   "cell_type": "code",
   "execution_count": 49,
   "id": "58ed684f",
   "metadata": {},
   "outputs": [],
   "source": [
    "#How many rows and columns\n",
    "#match.shape"
   ]
  },
  {
   "cell_type": "code",
   "execution_count": 50,
   "id": "aed8f643",
   "metadata": {},
   "outputs": [],
   "source": [
    "#to show all column name\n",
    "#match.columns"
   ]
  },
  {
   "cell_type": "code",
   "execution_count": 51,
   "id": "e05487f7",
   "metadata": {},
   "outputs": [],
   "source": [
    "#to show data type of all columns\n",
    "#match.dtypes"
   ]
  },
  {
   "cell_type": "code",
   "execution_count": 52,
   "id": "aa7d593c",
   "metadata": {},
   "outputs": [],
   "source": [
    "#to show first 5 records\n",
    "#match.head()"
   ]
  },
  {
   "cell_type": "code",
   "execution_count": 53,
   "id": "4c533f87",
   "metadata": {},
   "outputs": [],
   "source": [
    "#sample()  : to show randomly record\n",
    "#match.sample() #by defualt only 1 recorm randomly"
   ]
  },
  {
   "cell_type": "code",
   "execution_count": 54,
   "id": "86596d85",
   "metadata": {},
   "outputs": [],
   "source": [
    "#match.sample(5)"
   ]
  },
  {
   "cell_type": "code",
   "execution_count": 55,
   "id": "c4ea1e5f",
   "metadata": {},
   "outputs": [],
   "source": [
    "#to check null values\n",
    "#match.isnull()  #return answer in boolean means True/Column"
   ]
  },
  {
   "cell_type": "code",
   "execution_count": 56,
   "id": "12297164",
   "metadata": {},
   "outputs": [],
   "source": [
    "#match.isnull().sum()"
   ]
  },
  {
   "cell_type": "code",
   "execution_count": 57,
   "id": "54a8abd2",
   "metadata": {},
   "outputs": [],
   "source": [
    "#match"
   ]
  },
  {
   "cell_type": "code",
   "execution_count": 58,
   "id": "d2fa7088",
   "metadata": {},
   "outputs": [],
   "source": [
    "#To show name of all winners team\n",
    "#match['Winner'].unique()"
   ]
  },
  {
   "cell_type": "code",
   "execution_count": 59,
   "id": "a35b407a",
   "metadata": {},
   "outputs": [],
   "source": [
    "#match['Winner'].value_counts()"
   ]
  },
  {
   "cell_type": "code",
   "execution_count": 60,
   "id": "fcf394fa",
   "metadata": {},
   "outputs": [],
   "source": [
    "#match.to_csv('ipl_match.csv',index=False)"
   ]
  },
  {
   "cell_type": "code",
   "execution_count": 61,
   "id": "c9a9343e",
   "metadata": {},
   "outputs": [
    {
     "data": {
      "text/plain": [
       "'C:\\\\Users\\\\Meena Panday'"
      ]
     },
     "execution_count": 61,
     "metadata": {},
     "output_type": "execute_result"
    }
   ],
   "source": [
    "import os\n",
    "os.getcwd()"
   ]
  },
  {
   "cell_type": "code",
   "execution_count": 62,
   "id": "51103b8d",
   "metadata": {},
   "outputs": [
    {
     "data": {
      "text/html": [
       "<div>\n",
       "<style scoped>\n",
       "    .dataframe tbody tr th:only-of-type {\n",
       "        vertical-align: middle;\n",
       "    }\n",
       "\n",
       "    .dataframe tbody tr th {\n",
       "        vertical-align: top;\n",
       "    }\n",
       "\n",
       "    .dataframe thead th {\n",
       "        text-align: right;\n",
       "    }\n",
       "</style>\n",
       "<table border=\"1\" class=\"dataframe\">\n",
       "  <thead>\n",
       "    <tr style=\"text-align: right;\">\n",
       "      <th></th>\n",
       "      <th>Year</th>\n",
       "      <th>Winner</th>\n",
       "      <th>Runner Up</th>\n",
       "      <th>Player of the Series</th>\n",
       "      <th>No. of Teams</th>\n",
       "      <th>Venue</th>\n",
       "    </tr>\n",
       "  </thead>\n",
       "  <tbody>\n",
       "    <tr>\n",
       "      <th>0</th>\n",
       "      <td>IPL Winner 2021</td>\n",
       "      <td>Chennai Super Kings</td>\n",
       "      <td>Kolkata Knight Riders</td>\n",
       "      <td>Faf du Plessis</td>\n",
       "      <td>8</td>\n",
       "      <td>Dubai</td>\n",
       "    </tr>\n",
       "    <tr>\n",
       "      <th>1</th>\n",
       "      <td>IPL winner 2020</td>\n",
       "      <td>Mumbai Indians</td>\n",
       "      <td>Delhi Capitals</td>\n",
       "      <td>Trent Boult</td>\n",
       "      <td>8</td>\n",
       "      <td>Dubai</td>\n",
       "    </tr>\n",
       "    <tr>\n",
       "      <th>2</th>\n",
       "      <td>IPL winner 2019</td>\n",
       "      <td>Mumbai Indians</td>\n",
       "      <td>Chennai Super Kings</td>\n",
       "      <td>Jasprit Bumrah</td>\n",
       "      <td>8</td>\n",
       "      <td>Hyderabad</td>\n",
       "    </tr>\n",
       "    <tr>\n",
       "      <th>3</th>\n",
       "      <td>IPL winner 2018</td>\n",
       "      <td>Chennai Super Kings</td>\n",
       "      <td>Sunrisers Hyderabad</td>\n",
       "      <td>Shane Watson</td>\n",
       "      <td>8</td>\n",
       "      <td>Mumbai</td>\n",
       "    </tr>\n",
       "    <tr>\n",
       "      <th>4</th>\n",
       "      <td>IPL winner 2017</td>\n",
       "      <td>Mumbai Indians</td>\n",
       "      <td>Rising Pune Supergiants</td>\n",
       "      <td>Krunal Pandya</td>\n",
       "      <td>8</td>\n",
       "      <td>Hyderabad</td>\n",
       "    </tr>\n",
       "    <tr>\n",
       "      <th>5</th>\n",
       "      <td>IPL winner 2016</td>\n",
       "      <td>Sunrisers Hyderabad</td>\n",
       "      <td>Royal Challengers Bangalore</td>\n",
       "      <td>Ben Cutting</td>\n",
       "      <td>8</td>\n",
       "      <td>Bangalore</td>\n",
       "    </tr>\n",
       "    <tr>\n",
       "      <th>6</th>\n",
       "      <td>IPL winner 2015</td>\n",
       "      <td>Mumbai Indians</td>\n",
       "      <td>Chennai Super Kings</td>\n",
       "      <td>Rohit Sharma</td>\n",
       "      <td>8</td>\n",
       "      <td>Kolkata</td>\n",
       "    </tr>\n",
       "    <tr>\n",
       "      <th>7</th>\n",
       "      <td>IPL winner 2014</td>\n",
       "      <td>Kolkata Knight Riders</td>\n",
       "      <td>Kings XI Punjab</td>\n",
       "      <td>Manish Pandey</td>\n",
       "      <td>8</td>\n",
       "      <td>Bangalore</td>\n",
       "    </tr>\n",
       "    <tr>\n",
       "      <th>8</th>\n",
       "      <td>IPL winner 2013</td>\n",
       "      <td>Mumbai Indians</td>\n",
       "      <td>Chennai Super Kings</td>\n",
       "      <td>Kieron Pollard</td>\n",
       "      <td>9</td>\n",
       "      <td>Kolkata</td>\n",
       "    </tr>\n",
       "    <tr>\n",
       "      <th>9</th>\n",
       "      <td>IPL winner 2012</td>\n",
       "      <td>Kolkata Knight Riders</td>\n",
       "      <td>Chennai Super Kings</td>\n",
       "      <td>Manvinder Bisla</td>\n",
       "      <td>9</td>\n",
       "      <td>Chennai</td>\n",
       "    </tr>\n",
       "    <tr>\n",
       "      <th>10</th>\n",
       "      <td>IPL winner 2011</td>\n",
       "      <td>Chennai Super Kings</td>\n",
       "      <td>Royal Challengers Bangalore</td>\n",
       "      <td>Murali Vijay</td>\n",
       "      <td>10</td>\n",
       "      <td>Chennai</td>\n",
       "    </tr>\n",
       "    <tr>\n",
       "      <th>11</th>\n",
       "      <td>IPL winner 2010</td>\n",
       "      <td>Chennai Super Kings</td>\n",
       "      <td>Mumbai Indians</td>\n",
       "      <td>Suresh Raina</td>\n",
       "      <td>8</td>\n",
       "      <td>Mumbai</td>\n",
       "    </tr>\n",
       "    <tr>\n",
       "      <th>12</th>\n",
       "      <td>IPL winner 2009</td>\n",
       "      <td>Deccan Chargers</td>\n",
       "      <td>Royal Challengers Bangalore</td>\n",
       "      <td>Anil Kumble</td>\n",
       "      <td>8</td>\n",
       "      <td>Johannesburg</td>\n",
       "    </tr>\n",
       "    <tr>\n",
       "      <th>13</th>\n",
       "      <td>IPL winner 2008</td>\n",
       "      <td>Rajasthan Royals</td>\n",
       "      <td>Chennai Super Kings</td>\n",
       "      <td>Yusuf Pathan</td>\n",
       "      <td>8</td>\n",
       "      <td>Mumbai</td>\n",
       "    </tr>\n",
       "  </tbody>\n",
       "</table>\n",
       "</div>"
      ],
      "text/plain": [
       "               Year                 Winner                    Runner Up  \\\n",
       "0   IPL Winner 2021    Chennai Super Kings        Kolkata Knight Riders   \n",
       "1   IPL winner 2020         Mumbai Indians               Delhi Capitals   \n",
       "2   IPL winner 2019         Mumbai Indians          Chennai Super Kings   \n",
       "3   IPL winner 2018    Chennai Super Kings          Sunrisers Hyderabad   \n",
       "4   IPL winner 2017         Mumbai Indians      Rising Pune Supergiants   \n",
       "5   IPL winner 2016    Sunrisers Hyderabad  Royal Challengers Bangalore   \n",
       "6   IPL winner 2015         Mumbai Indians          Chennai Super Kings   \n",
       "7   IPL winner 2014  Kolkata Knight Riders              Kings XI Punjab   \n",
       "8   IPL winner 2013         Mumbai Indians          Chennai Super Kings   \n",
       "9   IPL winner 2012  Kolkata Knight Riders          Chennai Super Kings   \n",
       "10  IPL winner 2011    Chennai Super Kings  Royal Challengers Bangalore   \n",
       "11  IPL winner 2010    Chennai Super Kings               Mumbai Indians   \n",
       "12  IPL winner 2009        Deccan Chargers  Royal Challengers Bangalore   \n",
       "13  IPL winner 2008       Rajasthan Royals          Chennai Super Kings   \n",
       "\n",
       "   Player of the Series  No. of Teams         Venue  \n",
       "0        Faf du Plessis             8         Dubai  \n",
       "1           Trent Boult             8         Dubai  \n",
       "2        Jasprit Bumrah             8     Hyderabad  \n",
       "3          Shane Watson             8        Mumbai  \n",
       "4         Krunal Pandya             8     Hyderabad  \n",
       "5           Ben Cutting             8     Bangalore  \n",
       "6          Rohit Sharma             8       Kolkata  \n",
       "7         Manish Pandey             8     Bangalore  \n",
       "8        Kieron Pollard             9       Kolkata  \n",
       "9       Manvinder Bisla             9       Chennai  \n",
       "10         Murali Vijay            10       Chennai  \n",
       "11         Suresh Raina             8        Mumbai  \n",
       "12          Anil Kumble             8  Johannesburg  \n",
       "13         Yusuf Pathan             8        Mumbai  "
      ]
     },
     "execution_count": 62,
     "metadata": {},
     "output_type": "execute_result"
    }
   ],
   "source": [
    "#To read data from csv file , use inbuilt method read_csv()\n",
    "match=pd.read_csv('ipl_match.csv')\n",
    "match"
   ]
  },
  {
   "cell_type": "code",
   "execution_count": 63,
   "id": "36d35e43",
   "metadata": {},
   "outputs": [
    {
     "data": {
      "text/html": [
       "<div>\n",
       "<style scoped>\n",
       "    .dataframe tbody tr th:only-of-type {\n",
       "        vertical-align: middle;\n",
       "    }\n",
       "\n",
       "    .dataframe tbody tr th {\n",
       "        vertical-align: top;\n",
       "    }\n",
       "\n",
       "    .dataframe thead th {\n",
       "        text-align: right;\n",
       "    }\n",
       "</style>\n",
       "<table border=\"1\" class=\"dataframe\">\n",
       "  <thead>\n",
       "    <tr style=\"text-align: right;\">\n",
       "      <th></th>\n",
       "      <th>Year</th>\n",
       "      <th>Winner</th>\n",
       "      <th>Runner Up</th>\n",
       "      <th>Player of the Series</th>\n",
       "      <th>No. of Teams</th>\n",
       "      <th>Venue</th>\n",
       "    </tr>\n",
       "  </thead>\n",
       "  <tbody>\n",
       "    <tr>\n",
       "      <th>0</th>\n",
       "      <td>IPL Winner 2021</td>\n",
       "      <td>Chennai Super Kings</td>\n",
       "      <td>Kolkata Knight Riders</td>\n",
       "      <td>Faf du Plessis</td>\n",
       "      <td>8</td>\n",
       "      <td>Dubai</td>\n",
       "    </tr>\n",
       "    <tr>\n",
       "      <th>1</th>\n",
       "      <td>IPL winner 2020</td>\n",
       "      <td>Mumbai Indians</td>\n",
       "      <td>Delhi Capitals</td>\n",
       "      <td>Trent Boult</td>\n",
       "      <td>8</td>\n",
       "      <td>Dubai</td>\n",
       "    </tr>\n",
       "    <tr>\n",
       "      <th>2</th>\n",
       "      <td>IPL winner 2019</td>\n",
       "      <td>Mumbai Indians</td>\n",
       "      <td>Chennai Super Kings</td>\n",
       "      <td>Jasprit Bumrah</td>\n",
       "      <td>8</td>\n",
       "      <td>Hyderabad</td>\n",
       "    </tr>\n",
       "    <tr>\n",
       "      <th>3</th>\n",
       "      <td>IPL winner 2018</td>\n",
       "      <td>Chennai Super Kings</td>\n",
       "      <td>Sunrisers Hyderabad</td>\n",
       "      <td>Shane Watson</td>\n",
       "      <td>8</td>\n",
       "      <td>Mumbai</td>\n",
       "    </tr>\n",
       "    <tr>\n",
       "      <th>4</th>\n",
       "      <td>IPL winner 2017</td>\n",
       "      <td>Mumbai Indians</td>\n",
       "      <td>Rising Pune Supergiants</td>\n",
       "      <td>Krunal Pandya</td>\n",
       "      <td>8</td>\n",
       "      <td>Hyderabad</td>\n",
       "    </tr>\n",
       "  </tbody>\n",
       "</table>\n",
       "</div>"
      ],
      "text/plain": [
       "              Year               Winner                Runner Up  \\\n",
       "0  IPL Winner 2021  Chennai Super Kings    Kolkata Knight Riders   \n",
       "1  IPL winner 2020       Mumbai Indians           Delhi Capitals   \n",
       "2  IPL winner 2019       Mumbai Indians      Chennai Super Kings   \n",
       "3  IPL winner 2018  Chennai Super Kings      Sunrisers Hyderabad   \n",
       "4  IPL winner 2017       Mumbai Indians  Rising Pune Supergiants   \n",
       "\n",
       "  Player of the Series  No. of Teams      Venue  \n",
       "0       Faf du Plessis             8      Dubai  \n",
       "1          Trent Boult             8      Dubai  \n",
       "2       Jasprit Bumrah             8  Hyderabad  \n",
       "3         Shane Watson             8     Mumbai  \n",
       "4        Krunal Pandya             8  Hyderabad  "
      ]
     },
     "execution_count": 63,
     "metadata": {},
     "output_type": "execute_result"
    }
   ],
   "source": [
    "match.head()"
   ]
  },
  {
   "cell_type": "code",
   "execution_count": 64,
   "id": "fa413257",
   "metadata": {},
   "outputs": [
    {
     "data": {
      "text/html": [
       "<div>\n",
       "<style scoped>\n",
       "    .dataframe tbody tr th:only-of-type {\n",
       "        vertical-align: middle;\n",
       "    }\n",
       "\n",
       "    .dataframe tbody tr th {\n",
       "        vertical-align: top;\n",
       "    }\n",
       "\n",
       "    .dataframe thead th {\n",
       "        text-align: right;\n",
       "    }\n",
       "</style>\n",
       "<table border=\"1\" class=\"dataframe\">\n",
       "  <thead>\n",
       "    <tr style=\"text-align: right;\">\n",
       "      <th></th>\n",
       "      <th>Year</th>\n",
       "      <th>Winner</th>\n",
       "      <th>Runner Up</th>\n",
       "      <th>Player of the Series</th>\n",
       "      <th>No. of Teams</th>\n",
       "      <th>Venue</th>\n",
       "    </tr>\n",
       "  </thead>\n",
       "  <tbody>\n",
       "    <tr>\n",
       "      <th>1</th>\n",
       "      <td>IPL winner 2020</td>\n",
       "      <td>Mumbai Indians</td>\n",
       "      <td>Delhi Capitals</td>\n",
       "      <td>Trent Boult</td>\n",
       "      <td>8</td>\n",
       "      <td>Dubai</td>\n",
       "    </tr>\n",
       "    <tr>\n",
       "      <th>2</th>\n",
       "      <td>IPL winner 2019</td>\n",
       "      <td>Mumbai Indians</td>\n",
       "      <td>Chennai Super Kings</td>\n",
       "      <td>Jasprit Bumrah</td>\n",
       "      <td>8</td>\n",
       "      <td>Hyderabad</td>\n",
       "    </tr>\n",
       "    <tr>\n",
       "      <th>4</th>\n",
       "      <td>IPL winner 2017</td>\n",
       "      <td>Mumbai Indians</td>\n",
       "      <td>Rising Pune Supergiants</td>\n",
       "      <td>Krunal Pandya</td>\n",
       "      <td>8</td>\n",
       "      <td>Hyderabad</td>\n",
       "    </tr>\n",
       "    <tr>\n",
       "      <th>6</th>\n",
       "      <td>IPL winner 2015</td>\n",
       "      <td>Mumbai Indians</td>\n",
       "      <td>Chennai Super Kings</td>\n",
       "      <td>Rohit Sharma</td>\n",
       "      <td>8</td>\n",
       "      <td>Kolkata</td>\n",
       "    </tr>\n",
       "    <tr>\n",
       "      <th>8</th>\n",
       "      <td>IPL winner 2013</td>\n",
       "      <td>Mumbai Indians</td>\n",
       "      <td>Chennai Super Kings</td>\n",
       "      <td>Kieron Pollard</td>\n",
       "      <td>9</td>\n",
       "      <td>Kolkata</td>\n",
       "    </tr>\n",
       "  </tbody>\n",
       "</table>\n",
       "</div>"
      ],
      "text/plain": [
       "              Year          Winner                Runner Up  \\\n",
       "1  IPL winner 2020  Mumbai Indians           Delhi Capitals   \n",
       "2  IPL winner 2019  Mumbai Indians      Chennai Super Kings   \n",
       "4  IPL winner 2017  Mumbai Indians  Rising Pune Supergiants   \n",
       "6  IPL winner 2015  Mumbai Indians      Chennai Super Kings   \n",
       "8  IPL winner 2013  Mumbai Indians      Chennai Super Kings   \n",
       "\n",
       "  Player of the Series  No. of Teams      Venue  \n",
       "1          Trent Boult             8      Dubai  \n",
       "2       Jasprit Bumrah             8  Hyderabad  \n",
       "4        Krunal Pandya             8  Hyderabad  \n",
       "6         Rohit Sharma             8    Kolkata  \n",
       "8       Kieron Pollard             9    Kolkata  "
      ]
     },
     "execution_count": 64,
     "metadata": {},
     "output_type": "execute_result"
    }
   ],
   "source": [
    "#to show all details of Winner Mumbai Indians team \n",
    "match[match[\"Winner\"]==\"Mumbai Indians\"]"
   ]
  },
  {
   "cell_type": "code",
   "execution_count": 65,
   "id": "0a9c3443",
   "metadata": {},
   "outputs": [
    {
     "data": {
      "text/html": [
       "<div>\n",
       "<style scoped>\n",
       "    .dataframe tbody tr th:only-of-type {\n",
       "        vertical-align: middle;\n",
       "    }\n",
       "\n",
       "    .dataframe tbody tr th {\n",
       "        vertical-align: top;\n",
       "    }\n",
       "\n",
       "    .dataframe thead th {\n",
       "        text-align: right;\n",
       "    }\n",
       "</style>\n",
       "<table border=\"1\" class=\"dataframe\">\n",
       "  <thead>\n",
       "    <tr style=\"text-align: right;\">\n",
       "      <th></th>\n",
       "      <th>Year</th>\n",
       "      <th>Winner</th>\n",
       "      <th>Runner Up</th>\n",
       "      <th>Player of the Series</th>\n",
       "      <th>No. of Teams</th>\n",
       "      <th>Venue</th>\n",
       "    </tr>\n",
       "  </thead>\n",
       "  <tbody>\n",
       "    <tr>\n",
       "      <th>2</th>\n",
       "      <td>IPL winner 2019</td>\n",
       "      <td>Mumbai Indians</td>\n",
       "      <td>Chennai Super Kings</td>\n",
       "      <td>Jasprit Bumrah</td>\n",
       "      <td>8</td>\n",
       "      <td>Hyderabad</td>\n",
       "    </tr>\n",
       "    <tr>\n",
       "      <th>4</th>\n",
       "      <td>IPL winner 2017</td>\n",
       "      <td>Mumbai Indians</td>\n",
       "      <td>Rising Pune Supergiants</td>\n",
       "      <td>Krunal Pandya</td>\n",
       "      <td>8</td>\n",
       "      <td>Hyderabad</td>\n",
       "    </tr>\n",
       "  </tbody>\n",
       "</table>\n",
       "</div>"
      ],
      "text/plain": [
       "              Year          Winner                Runner Up  \\\n",
       "2  IPL winner 2019  Mumbai Indians      Chennai Super Kings   \n",
       "4  IPL winner 2017  Mumbai Indians  Rising Pune Supergiants   \n",
       "\n",
       "  Player of the Series  No. of Teams      Venue  \n",
       "2       Jasprit Bumrah             8  Hyderabad  \n",
       "4        Krunal Pandya             8  Hyderabad  "
      ]
     },
     "execution_count": 65,
     "metadata": {},
     "output_type": "execute_result"
    }
   ],
   "source": [
    "#To show those records whose winner=Mumbai indians and venuw=Hyderabad\n",
    "match[(match['Winner']=='Mumbai Indians')&(match['Venue']=='Hyderabad')]"
   ]
  },
  {
   "cell_type": "code",
   "execution_count": 66,
   "id": "86c40989",
   "metadata": {},
   "outputs": [
    {
     "data": {
      "text/plain": [
       "'C:\\\\Users\\\\Meena Panday'"
      ]
     },
     "execution_count": 66,
     "metadata": {},
     "output_type": "execute_result"
    }
   ],
   "source": [
    "import os\n",
    "os.getcwd()"
   ]
  },
  {
   "cell_type": "code",
   "execution_count": 67,
   "id": "e854e333",
   "metadata": {},
   "outputs": [
    {
     "data": {
      "text/html": [
       "<div>\n",
       "<style scoped>\n",
       "    .dataframe tbody tr th:only-of-type {\n",
       "        vertical-align: middle;\n",
       "    }\n",
       "\n",
       "    .dataframe tbody tr th {\n",
       "        vertical-align: top;\n",
       "    }\n",
       "\n",
       "    .dataframe thead th {\n",
       "        text-align: right;\n",
       "    }\n",
       "</style>\n",
       "<table border=\"1\" class=\"dataframe\">\n",
       "  <thead>\n",
       "    <tr style=\"text-align: right;\">\n",
       "      <th></th>\n",
       "      <th>symboling</th>\n",
       "      <th>normalized-losses</th>\n",
       "      <th>make</th>\n",
       "      <th>fuel-type</th>\n",
       "      <th>body-style</th>\n",
       "      <th>drive-wheels</th>\n",
       "      <th>engine-location</th>\n",
       "      <th>width</th>\n",
       "      <th>height</th>\n",
       "      <th>engine-type</th>\n",
       "      <th>engine-size</th>\n",
       "      <th>horsepower</th>\n",
       "      <th>city-mpg</th>\n",
       "      <th>highway-mpg</th>\n",
       "      <th>price</th>\n",
       "    </tr>\n",
       "  </thead>\n",
       "  <tbody>\n",
       "    <tr>\n",
       "      <th>0</th>\n",
       "      <td>3</td>\n",
       "      <td>?</td>\n",
       "      <td>alfa-romero</td>\n",
       "      <td>gas</td>\n",
       "      <td>convertible</td>\n",
       "      <td>rwd</td>\n",
       "      <td>front</td>\n",
       "      <td>64.1</td>\n",
       "      <td>48.8</td>\n",
       "      <td>dohc</td>\n",
       "      <td>130</td>\n",
       "      <td>111</td>\n",
       "      <td>21</td>\n",
       "      <td>27</td>\n",
       "      <td>13495</td>\n",
       "    </tr>\n",
       "    <tr>\n",
       "      <th>1</th>\n",
       "      <td>3</td>\n",
       "      <td>?</td>\n",
       "      <td>alfa-romero</td>\n",
       "      <td>gas</td>\n",
       "      <td>convertible</td>\n",
       "      <td>rwd</td>\n",
       "      <td>front</td>\n",
       "      <td>64.1</td>\n",
       "      <td>48.8</td>\n",
       "      <td>dohc</td>\n",
       "      <td>130</td>\n",
       "      <td>111</td>\n",
       "      <td>21</td>\n",
       "      <td>27</td>\n",
       "      <td>16500</td>\n",
       "    </tr>\n",
       "    <tr>\n",
       "      <th>2</th>\n",
       "      <td>1</td>\n",
       "      <td>?</td>\n",
       "      <td>alfa-romero</td>\n",
       "      <td>gas</td>\n",
       "      <td>hatchback</td>\n",
       "      <td>rwd</td>\n",
       "      <td>front</td>\n",
       "      <td>65.5</td>\n",
       "      <td>52.4</td>\n",
       "      <td>ohcv</td>\n",
       "      <td>152</td>\n",
       "      <td>154</td>\n",
       "      <td>19</td>\n",
       "      <td>26</td>\n",
       "      <td>16500</td>\n",
       "    </tr>\n",
       "    <tr>\n",
       "      <th>3</th>\n",
       "      <td>2</td>\n",
       "      <td>164</td>\n",
       "      <td>audi</td>\n",
       "      <td>gas</td>\n",
       "      <td>sedan</td>\n",
       "      <td>fwd</td>\n",
       "      <td>front</td>\n",
       "      <td>66.2</td>\n",
       "      <td>54.3</td>\n",
       "      <td>ohc</td>\n",
       "      <td>109</td>\n",
       "      <td>102</td>\n",
       "      <td>24</td>\n",
       "      <td>30</td>\n",
       "      <td>13950</td>\n",
       "    </tr>\n",
       "    <tr>\n",
       "      <th>4</th>\n",
       "      <td>2</td>\n",
       "      <td>164</td>\n",
       "      <td>audi</td>\n",
       "      <td>gas</td>\n",
       "      <td>sedan</td>\n",
       "      <td>4wd</td>\n",
       "      <td>front</td>\n",
       "      <td>66.4</td>\n",
       "      <td>54.3</td>\n",
       "      <td>ohc</td>\n",
       "      <td>136</td>\n",
       "      <td>115</td>\n",
       "      <td>18</td>\n",
       "      <td>22</td>\n",
       "      <td>17450</td>\n",
       "    </tr>\n",
       "  </tbody>\n",
       "</table>\n",
       "</div>"
      ],
      "text/plain": [
       "   symboling normalized-losses         make fuel-type   body-style  \\\n",
       "0          3                 ?  alfa-romero       gas  convertible   \n",
       "1          3                 ?  alfa-romero       gas  convertible   \n",
       "2          1                 ?  alfa-romero       gas    hatchback   \n",
       "3          2               164         audi       gas        sedan   \n",
       "4          2               164         audi       gas        sedan   \n",
       "\n",
       "  drive-wheels engine-location  width  height engine-type  engine-size  \\\n",
       "0          rwd           front   64.1    48.8        dohc          130   \n",
       "1          rwd           front   64.1    48.8        dohc          130   \n",
       "2          rwd           front   65.5    52.4        ohcv          152   \n",
       "3          fwd           front   66.2    54.3         ohc          109   \n",
       "4          4wd           front   66.4    54.3         ohc          136   \n",
       "\n",
       "  horsepower  city-mpg  highway-mpg  price  \n",
       "0        111        21           27  13495  \n",
       "1        111        21           27  16500  \n",
       "2        154        19           26  16500  \n",
       "3        102        24           30  13950  \n",
       "4        115        18           22  17450  "
      ]
     },
     "execution_count": 67,
     "metadata": {},
     "output_type": "execute_result"
    }
   ],
   "source": [
    "import pandas as pd\n",
    "#to load csv file\n",
    "df=pd.read_csv('automobile_data.csv')\n",
    "df.head()"
   ]
  },
  {
   "cell_type": "code",
   "execution_count": 68,
   "id": "d73f5647",
   "metadata": {},
   "outputs": [
    {
     "data": {
      "text/plain": [
       "(205, 15)"
      ]
     },
     "execution_count": 68,
     "metadata": {},
     "output_type": "execute_result"
    }
   ],
   "source": [
    "#To check the number of rows and columns in given dataset\n",
    "df.shape"
   ]
  },
  {
   "cell_type": "code",
   "execution_count": 69,
   "id": "fe61854f",
   "metadata": {},
   "outputs": [
    {
     "data": {
      "text/plain": [
       "array(['alfa-romero', 'audi', 'bmw', 'chevrolet', 'dodge', 'honda',\n",
       "       'isuzu', 'jaguar', 'mazda', 'mercedes-benz', 'mercury',\n",
       "       'mitsubishi', 'nissan', 'peugot', 'plymouth', 'porsche', 'renault',\n",
       "       'saab', 'subaru', 'toyota', 'volkswagen', 'volvo'], dtype=object)"
      ]
     },
     "execution_count": 69,
     "metadata": {},
     "output_type": "execute_result"
    }
   ],
   "source": [
    "#to show manufacturing of car \n",
    "df['make'].unique()"
   ]
  },
  {
   "cell_type": "code",
   "execution_count": 70,
   "id": "063b12af",
   "metadata": {},
   "outputs": [
    {
     "data": {
      "text/plain": [
       "22"
      ]
     },
     "execution_count": 70,
     "metadata": {},
     "output_type": "execute_result"
    }
   ],
   "source": [
    "#Total  no. of manufacturing company in given dataset\n",
    "len(df['make'].unique())"
   ]
  },
  {
   "cell_type": "code",
   "execution_count": 71,
   "id": "3fcf5358",
   "metadata": {},
   "outputs": [
    {
     "data": {
      "text/plain": [
       "toyota           32\n",
       "nissan           18\n",
       "mazda            17\n",
       "honda            13\n",
       "mitsubishi       13\n",
       "subaru           12\n",
       "volkswagen       12\n",
       "volvo            11\n",
       "peugot           11\n",
       "dodge             9\n",
       "bmw               8\n",
       "mercedes-benz     8\n",
       "audi              7\n",
       "plymouth          7\n",
       "saab              6\n",
       "porsche           5\n",
       "isuzu             4\n",
       "jaguar            3\n",
       "chevrolet         3\n",
       "alfa-romero       3\n",
       "renault           2\n",
       "mercury           1\n",
       "Name: make, dtype: int64"
      ]
     },
     "execution_count": 71,
     "metadata": {},
     "output_type": "execute_result"
    }
   ],
   "source": [
    "#How many car sales according to each manufacturing company\n",
    "df['make'].value_counts()"
   ]
  },
  {
   "cell_type": "code",
   "execution_count": 72,
   "id": "9ae53152",
   "metadata": {},
   "outputs": [],
   "source": [
    "#First install matplotlib library for visualisation\n",
    "#!pip install matplotlib"
   ]
  },
  {
   "cell_type": "code",
   "execution_count": 73,
   "id": "dcf562b9",
   "metadata": {},
   "outputs": [],
   "source": [
    "#secondly install seaborn library for visualisation\n",
    "#!pip install seaborn"
   ]
  },
  {
   "cell_type": "code",
   "execution_count": 74,
   "id": "83e8b9ef",
   "metadata": {},
   "outputs": [],
   "source": [
    "import matplotlib.pyplot as plt\n",
    "import seaborn as sns"
   ]
  },
  {
   "cell_type": "code",
   "execution_count": 75,
   "id": "df00f7bf",
   "metadata": {},
   "outputs": [
    {
     "data": {
      "image/png": "[encoded data removed]",
      "text/plain": [
       "<Figure size 576x504 with 1 Axes>"
      ]
     },
     "metadata": {
      "needs_background": "light"
     },
     "output_type": "display_data"
    }
   ],
   "source": [
    "#suppose create bar graph (bar graph is a frequency graph)\n",
    "plt.figure(figsize=(8,7))\n",
    "df['make'].value_counts().plot(kind=\"bar\")\n",
    "f=df['make'].value_counts()\n",
    "plt.yticks(f)\n",
    "plt.xlabel(\"Manufacturing Company\",color=\"red\",fontsize=\"20\")\n",
    "plt.ylabel(\"Frequency\")\n",
    "plt.title(\"Bar Graph\",fontsize=\"30\",color=\"blue\")\n",
    "#save the graph in files\n",
    "plt.savefig('bar1.jpg')\n",
    "plt.show()"
   ]
  },
  {
   "cell_type": "code",
   "execution_count": 76,
   "id": "7bcd096c",
   "metadata": {},
   "outputs": [
    {
     "data": {
      "image/png": "[encoded data removed]",
      "text/plain": [
       "<Figure size 504x504 with 1 Axes>"
      ]
     },
     "metadata": {
      "needs_background": "light"
     },
     "output_type": "display_data"
    }
   ],
   "source": [
    "#suppose create bar graph (bar graph is a frequency graph)\n",
    "plt.figure(figsize=(7,7))\n",
    "df['make'].value_counts().plot(kind=\"barh\")\n",
    "f=df['make'].value_counts()\n",
    "plt.xticks(f)\n",
    "plt.ylabel(\"Manufacturing Company\",color=\"red\",fontsize=\"20\")\n",
    "plt.xlabel(\"Frequency\")\n",
    "plt.title(\"Bar Graph\",fontsize=\"30\",color=\"blue\")\n",
    "#save the graph in files\n",
    "plt.savefig('bar2.jpg')\n",
    "plt.show()"
   ]
  },
  {
   "cell_type": "code",
   "execution_count": 77,
   "id": "7da1b1e4",
   "metadata": {},
   "outputs": [
    {
     "data": {
      "image/png": "[encoded data removed]",
      "text/plain": [
       "<Figure size 1152x576 with 1 Axes>"
      ]
     },
     "metadata": {
      "needs_background": "light"
     },
     "output_type": "display_data"
    }
   ],
   "source": [
    "plt.figure(figsize=(16,8))\n",
    "sns.countplot(data=df,x=\"make\")\n",
    "f=df['make'].value_counts()\n",
    "plt.yticks(f)\n",
    "plt.show()"
   ]
  },
  {
   "cell_type": "code",
   "execution_count": 78,
   "id": "e724a143",
   "metadata": {},
   "outputs": [
    {
     "name": "stdout",
     "output_type": "stream",
     "text": [
      "A\n",
      "[1 2 3]\n",
      "B\n",
      "[4 5 6]\n",
      "C\n",
      "[[1 2 3]\n",
      " [4 5 6]]\n",
      "2\n"
     ]
    }
   ],
   "source": [
    "#vstack :  \n",
    "import numpy as np\n",
    "#suppose we create a 1D array A and B\n",
    "A=np.array([1,2,3])\n",
    "B=np.array([4,5,6])\n",
    "print(\"A\")\n",
    "print(A)\n",
    "print(\"B\")\n",
    "print(B)\n",
    "#apply Vstack\n",
    "C=np.vstack((A,B))\n",
    "print(\"C\")\n",
    "print(C)\n",
    "print(C.ndim)"
   ]
  },
  {
   "cell_type": "code",
   "execution_count": 79,
   "id": "a5562748",
   "metadata": {},
   "outputs": [
    {
     "data": {
      "text/html": [
       "<div>\n",
       "<style scoped>\n",
       "    .dataframe tbody tr th:only-of-type {\n",
       "        vertical-align: middle;\n",
       "    }\n",
       "\n",
       "    .dataframe tbody tr th {\n",
       "        vertical-align: top;\n",
       "    }\n",
       "\n",
       "    .dataframe thead th {\n",
       "        text-align: right;\n",
       "    }\n",
       "</style>\n",
       "<table border=\"1\" class=\"dataframe\">\n",
       "  <thead>\n",
       "    <tr style=\"text-align: right;\">\n",
       "      <th></th>\n",
       "      <th>symboling</th>\n",
       "      <th>normalized-losses</th>\n",
       "      <th>make</th>\n",
       "      <th>fuel-type</th>\n",
       "      <th>body-style</th>\n",
       "      <th>drive-wheels</th>\n",
       "      <th>engine-location</th>\n",
       "      <th>width</th>\n",
       "      <th>height</th>\n",
       "      <th>engine-type</th>\n",
       "      <th>engine-size</th>\n",
       "      <th>horsepower</th>\n",
       "      <th>city-mpg</th>\n",
       "      <th>highway-mpg</th>\n",
       "      <th>price</th>\n",
       "    </tr>\n",
       "  </thead>\n",
       "  <tbody>\n",
       "    <tr>\n",
       "      <th>0</th>\n",
       "      <td>3</td>\n",
       "      <td>?</td>\n",
       "      <td>alfa-romero</td>\n",
       "      <td>gas</td>\n",
       "      <td>convertible</td>\n",
       "      <td>rwd</td>\n",
       "      <td>front</td>\n",
       "      <td>64.1</td>\n",
       "      <td>48.8</td>\n",
       "      <td>dohc</td>\n",
       "      <td>130</td>\n",
       "      <td>111</td>\n",
       "      <td>21</td>\n",
       "      <td>27</td>\n",
       "      <td>13495</td>\n",
       "    </tr>\n",
       "    <tr>\n",
       "      <th>1</th>\n",
       "      <td>3</td>\n",
       "      <td>?</td>\n",
       "      <td>alfa-romero</td>\n",
       "      <td>gas</td>\n",
       "      <td>convertible</td>\n",
       "      <td>rwd</td>\n",
       "      <td>front</td>\n",
       "      <td>64.1</td>\n",
       "      <td>48.8</td>\n",
       "      <td>dohc</td>\n",
       "      <td>130</td>\n",
       "      <td>111</td>\n",
       "      <td>21</td>\n",
       "      <td>27</td>\n",
       "      <td>16500</td>\n",
       "    </tr>\n",
       "    <tr>\n",
       "      <th>2</th>\n",
       "      <td>1</td>\n",
       "      <td>?</td>\n",
       "      <td>alfa-romero</td>\n",
       "      <td>gas</td>\n",
       "      <td>hatchback</td>\n",
       "      <td>rwd</td>\n",
       "      <td>front</td>\n",
       "      <td>65.5</td>\n",
       "      <td>52.4</td>\n",
       "      <td>ohcv</td>\n",
       "      <td>152</td>\n",
       "      <td>154</td>\n",
       "      <td>19</td>\n",
       "      <td>26</td>\n",
       "      <td>16500</td>\n",
       "    </tr>\n",
       "    <tr>\n",
       "      <th>3</th>\n",
       "      <td>2</td>\n",
       "      <td>164</td>\n",
       "      <td>audi</td>\n",
       "      <td>gas</td>\n",
       "      <td>sedan</td>\n",
       "      <td>fwd</td>\n",
       "      <td>front</td>\n",
       "      <td>66.2</td>\n",
       "      <td>54.3</td>\n",
       "      <td>ohc</td>\n",
       "      <td>109</td>\n",
       "      <td>102</td>\n",
       "      <td>24</td>\n",
       "      <td>30</td>\n",
       "      <td>13950</td>\n",
       "    </tr>\n",
       "    <tr>\n",
       "      <th>4</th>\n",
       "      <td>2</td>\n",
       "      <td>164</td>\n",
       "      <td>audi</td>\n",
       "      <td>gas</td>\n",
       "      <td>sedan</td>\n",
       "      <td>4wd</td>\n",
       "      <td>front</td>\n",
       "      <td>66.4</td>\n",
       "      <td>54.3</td>\n",
       "      <td>ohc</td>\n",
       "      <td>136</td>\n",
       "      <td>115</td>\n",
       "      <td>18</td>\n",
       "      <td>22</td>\n",
       "      <td>17450</td>\n",
       "    </tr>\n",
       "  </tbody>\n",
       "</table>\n",
       "</div>"
      ],
      "text/plain": [
       "   symboling normalized-losses         make fuel-type   body-style  \\\n",
       "0          3                 ?  alfa-romero       gas  convertible   \n",
       "1          3                 ?  alfa-romero       gas  convertible   \n",
       "2          1                 ?  alfa-romero       gas    hatchback   \n",
       "3          2               164         audi       gas        sedan   \n",
       "4          2               164         audi       gas        sedan   \n",
       "\n",
       "  drive-wheels engine-location  width  height engine-type  engine-size  \\\n",
       "0          rwd           front   64.1    48.8        dohc          130   \n",
       "1          rwd           front   64.1    48.8        dohc          130   \n",
       "2          rwd           front   65.5    52.4        ohcv          152   \n",
       "3          fwd           front   66.2    54.3         ohc          109   \n",
       "4          4wd           front   66.4    54.3         ohc          136   \n",
       "\n",
       "  horsepower  city-mpg  highway-mpg  price  \n",
       "0        111        21           27  13495  \n",
       "1        111        21           27  16500  \n",
       "2        154        19           26  16500  \n",
       "3        102        24           30  13950  \n",
       "4        115        18           22  17450  "
      ]
     },
     "execution_count": 79,
     "metadata": {},
     "output_type": "execute_result"
    }
   ],
   "source": [
    "df.head()"
   ]
  },
  {
   "cell_type": "code",
   "execution_count": 80,
   "id": "ee7b0e5e",
   "metadata": {},
   "outputs": [
    {
     "data": {
      "text/plain": [
       "array(['gas', 'diesel'], dtype=object)"
      ]
     },
     "execution_count": 80,
     "metadata": {},
     "output_type": "execute_result"
    }
   ],
   "source": [
    "df[\"fuel-type\"].unique()"
   ]
  },
  {
   "cell_type": "code",
   "execution_count": 81,
   "id": "5ed628fa",
   "metadata": {},
   "outputs": [
    {
     "name": "stdout",
     "output_type": "stream",
     "text": [
      "gas       185\n",
      "diesel     20\n",
      "Name: fuel-type, dtype: int64\n"
     ]
    },
    {
     "data": {
      "image/png": "[encoded data removed]",
      "text/plain": [
       "<Figure size 432x288 with 1 Axes>"
      ]
     },
     "metadata": {
      "needs_background": "light"
     },
     "output_type": "display_data"
    }
   ],
   "source": [
    "sns.countplot(data=df,x='fuel-type')\n",
    "f=df['fuel-type'].value_counts()\n",
    "print(f)\n",
    "plt.yticks(f)\n",
    "plt.show()"
   ]
  },
  {
   "cell_type": "code",
   "execution_count": 82,
   "id": "1ce5b89f",
   "metadata": {},
   "outputs": [
    {
     "data": {
      "image/png": "[encoded data removed]",
      "text/plain": [
       "<Figure size 1584x576 with 1 Axes>"
      ]
     },
     "metadata": {
      "needs_background": "light"
     },
     "output_type": "display_data"
    }
   ],
   "source": [
    "plt.figure(figsize=(22,8))\n",
    "sns.countplot(data=df,x='make',hue='fuel-type')\n",
    "plt.show()"
   ]
  },
  {
   "cell_type": "code",
   "execution_count": 83,
   "id": "fa22c8c7",
   "metadata": {},
   "outputs": [
    {
     "data": {
      "text/plain": [
       "array(['convertible', 'hatchback', 'sedan', 'wagon', 'hardtop'],\n",
       "      dtype=object)"
      ]
     },
     "execution_count": 83,
     "metadata": {},
     "output_type": "execute_result"
    }
   ],
   "source": [
    "df['body-style'].unique()"
   ]
  },
  {
   "cell_type": "code",
   "execution_count": 84,
   "id": "42d8708d",
   "metadata": {},
   "outputs": [
    {
     "data": {
      "image/png": "[encoded data removed]",
      "text/plain": [
       "<Figure size 432x288 with 1 Axes>"
      ]
     },
     "metadata": {
      "needs_background": "light"
     },
     "output_type": "display_data"
    }
   ],
   "source": [
    "#how many cars according to body-style\n",
    "sns.countplot(data=df,x=\"body-style\")\n",
    "f=df['body-style'].value_counts()\n",
    "plt.yticks(f)\n",
    "plt.show()"
   ]
  },
  {
   "cell_type": "code",
   "execution_count": 85,
   "id": "8532c13e",
   "metadata": {},
   "outputs": [
    {
     "data": {
      "text/plain": [
       "make\n",
       "alfa-romero       46495\n",
       "audi             119155\n",
       "bmw              208950\n",
       "chevrolet         18021\n",
       "dodge             70879\n",
       "honda            106401\n",
       "isuzu             50833\n",
       "jaguar           103800\n",
       "mazda            181099\n",
       "mercedes-benz    269176\n",
       "mercury           16503\n",
       "mitsubishi       120117\n",
       "nissan           187482\n",
       "peugot           170380\n",
       "plymouth          55744\n",
       "porsche          137602\n",
       "renault           19190\n",
       "saab              91340\n",
       "subaru           102495\n",
       "toyota           316346\n",
       "volkswagen       120930\n",
       "volvo            198695\n",
       "Name: price, dtype: int64"
      ]
     },
     "execution_count": 85,
     "metadata": {},
     "output_type": "execute_result"
    }
   ],
   "source": [
    "#groupby() : -\n",
    "#to sum of price according to manufacturing company\n",
    "df.groupby('make')['price'].sum()"
   ]
  },
  {
   "cell_type": "code",
   "execution_count": 86,
   "id": "a68cda7d",
   "metadata": {},
   "outputs": [
    {
     "data": {
      "text/plain": [
       "make\n",
       "alfa-romero      15498.333333\n",
       "audi             17022.142857\n",
       "bmw              26118.750000\n",
       "chevrolet         6007.000000\n",
       "dodge             7875.444444\n",
       "honda             8184.692308\n",
       "isuzu            12708.250000\n",
       "jaguar           34600.000000\n",
       "mazda            10652.882353\n",
       "mercedes-benz    33647.000000\n",
       "mercury          16503.000000\n",
       "mitsubishi        9239.769231\n",
       "nissan           10415.666667\n",
       "peugot           15489.090909\n",
       "plymouth          7963.428571\n",
       "porsche          27520.400000\n",
       "renault           9595.000000\n",
       "saab             15223.333333\n",
       "subaru            8541.250000\n",
       "toyota            9885.812500\n",
       "volkswagen       10077.500000\n",
       "volvo            18063.181818\n",
       "Name: price, dtype: float64"
      ]
     },
     "execution_count": 86,
     "metadata": {},
     "output_type": "execute_result"
    }
   ],
   "source": [
    "#to average of price according to manufacturing company\n",
    "df.groupby('make')['price'].mean()"
   ]
  },
  {
   "cell_type": "code",
   "execution_count": 87,
   "id": "b10b631c",
   "metadata": {},
   "outputs": [
    {
     "data": {
      "text/plain": [
       "make           fuel-type\n",
       "alfa-romero    gas           46495\n",
       "audi           gas          119155\n",
       "bmw            gas          208950\n",
       "chevrolet      gas           18021\n",
       "dodge          gas           70879\n",
       "honda          gas          106401\n",
       "isuzu          gas           50833\n",
       "jaguar         gas          103800\n",
       "mazda          diesel        29139\n",
       "               gas          151960\n",
       "mercedes-benz  diesel       113576\n",
       "               gas          155600\n",
       "mercury        gas           16503\n",
       "mitsubishi     gas          120117\n",
       "nissan         diesel         7099\n",
       "               gas          180383\n",
       "peugot         diesel        78985\n",
       "               gas           91395\n",
       "plymouth       gas           55744\n",
       "porsche        gas          137602\n",
       "renault        gas           19190\n",
       "saab           gas           91340\n",
       "subaru         gas          102495\n",
       "toyota         diesel        26384\n",
       "               gas          289962\n",
       "volkswagen     diesel        39110\n",
       "               gas           81820\n",
       "volvo          diesel        22470\n",
       "               gas          176225\n",
       "Name: price, dtype: int64"
      ]
     },
     "execution_count": 87,
     "metadata": {},
     "output_type": "execute_result"
    }
   ],
   "source": [
    "df.groupby(['make','fuel-type'])['price'].sum()"
   ]
  },
  {
   "cell_type": "code",
   "execution_count": 88,
   "id": "deac6317",
   "metadata": {},
   "outputs": [
    {
     "data": {
      "text/plain": [
       "45400"
      ]
     },
     "execution_count": 88,
     "metadata": {},
     "output_type": "execute_result"
    }
   ],
   "source": [
    "#to show maximum price \n",
    "df['price'].max()"
   ]
  },
  {
   "cell_type": "code",
   "execution_count": 89,
   "id": "6e2ecc9d",
   "metadata": {},
   "outputs": [
    {
     "data": {
      "text/plain": [
       "74"
      ]
     },
     "execution_count": 89,
     "metadata": {},
     "output_type": "execute_result"
    }
   ],
   "source": [
    "#to show those record numbers whose got maximum price\n",
    "df['price'].idxmax()"
   ]
  },
  {
   "cell_type": "code",
   "execution_count": 90,
   "id": "88844b80",
   "metadata": {},
   "outputs": [
    {
     "data": {
      "text/plain": [
       "symboling                        1\n",
       "normalized-losses                ?\n",
       "make                 mercedes-benz\n",
       "fuel-type                      gas\n",
       "body-style                 hardtop\n",
       "drive-wheels                   rwd\n",
       "engine-location              front\n",
       "width                         72.0\n",
       "height                        55.4\n",
       "engine-type                   ohcv\n",
       "engine-size                    304\n",
       "horsepower                     184\n",
       "city-mpg                        14\n",
       "highway-mpg                     16\n",
       "price                        45400\n",
       "Name: 74, dtype: object"
      ]
     },
     "execution_count": 90,
     "metadata": {},
     "output_type": "execute_result"
    }
   ],
   "source": [
    "#to show all details of 74th row index (which is max price car)\n",
    "df.iloc[74]"
   ]
  },
  {
   "cell_type": "code",
   "execution_count": 91,
   "id": "e95d45ba",
   "metadata": {},
   "outputs": [
    {
     "data": {
      "text/html": [
       "<div>\n",
       "<style scoped>\n",
       "    .dataframe tbody tr th:only-of-type {\n",
       "        vertical-align: middle;\n",
       "    }\n",
       "\n",
       "    .dataframe tbody tr th {\n",
       "        vertical-align: top;\n",
       "    }\n",
       "\n",
       "    .dataframe thead th {\n",
       "        text-align: right;\n",
       "    }\n",
       "</style>\n",
       "<table border=\"1\" class=\"dataframe\">\n",
       "  <thead>\n",
       "    <tr style=\"text-align: right;\">\n",
       "      <th></th>\n",
       "      <th>rno</th>\n",
       "      <th>maths</th>\n",
       "    </tr>\n",
       "  </thead>\n",
       "  <tbody>\n",
       "    <tr>\n",
       "      <th>0</th>\n",
       "      <td>110</td>\n",
       "      <td>67</td>\n",
       "    </tr>\n",
       "    <tr>\n",
       "      <th>1</th>\n",
       "      <td>120</td>\n",
       "      <td>89</td>\n",
       "    </tr>\n",
       "    <tr>\n",
       "      <th>2</th>\n",
       "      <td>130</td>\n",
       "      <td>92</td>\n",
       "    </tr>\n",
       "    <tr>\n",
       "      <th>3</th>\n",
       "      <td>140</td>\n",
       "      <td>55</td>\n",
       "    </tr>\n",
       "    <tr>\n",
       "      <th>4</th>\n",
       "      <td>150</td>\n",
       "      <td>75</td>\n",
       "    </tr>\n",
       "  </tbody>\n",
       "</table>\n",
       "</div>"
      ],
      "text/plain": [
       "   rno  maths\n",
       "0  110     67\n",
       "1  120     89\n",
       "2  130     92\n",
       "3  140     55\n",
       "4  150     75"
      ]
     },
     "execution_count": 91,
     "metadata": {},
     "output_type": "execute_result"
    }
   ],
   "source": [
    "#merge() inbuilt method of pandas .\n",
    "#to join 2 or more data frame\n",
    "#First create first dataframe\n",
    "#first create dictionary\n",
    "d1={'rno':[110,120,130,140,150],'maths':[67,89,92,55,75]}\n",
    "#convert dictionary to dataframe\n",
    "df1=pd.DataFrame(d1)\n",
    "df1"
   ]
  },
  {
   "cell_type": "code",
   "execution_count": 92,
   "id": "f8e388a7",
   "metadata": {},
   "outputs": [
    {
     "data": {
      "text/html": [
       "<div>\n",
       "<style scoped>\n",
       "    .dataframe tbody tr th:only-of-type {\n",
       "        vertical-align: middle;\n",
       "    }\n",
       "\n",
       "    .dataframe tbody tr th {\n",
       "        vertical-align: top;\n",
       "    }\n",
       "\n",
       "    .dataframe thead th {\n",
       "        text-align: right;\n",
       "    }\n",
       "</style>\n",
       "<table border=\"1\" class=\"dataframe\">\n",
       "  <thead>\n",
       "    <tr style=\"text-align: right;\">\n",
       "      <th></th>\n",
       "      <th>rno</th>\n",
       "      <th>science</th>\n",
       "    </tr>\n",
       "  </thead>\n",
       "  <tbody>\n",
       "    <tr>\n",
       "      <th>0</th>\n",
       "      <td>110</td>\n",
       "      <td>60</td>\n",
       "    </tr>\n",
       "    <tr>\n",
       "      <th>1</th>\n",
       "      <td>130</td>\n",
       "      <td>80</td>\n",
       "    </tr>\n",
       "    <tr>\n",
       "      <th>2</th>\n",
       "      <td>150</td>\n",
       "      <td>90</td>\n",
       "    </tr>\n",
       "    <tr>\n",
       "      <th>3</th>\n",
       "      <td>160</td>\n",
       "      <td>55</td>\n",
       "    </tr>\n",
       "    <tr>\n",
       "      <th>4</th>\n",
       "      <td>170</td>\n",
       "      <td>75</td>\n",
       "    </tr>\n",
       "  </tbody>\n",
       "</table>\n",
       "</div>"
      ],
      "text/plain": [
       "   rno  science\n",
       "0  110       60\n",
       "1  130       80\n",
       "2  150       90\n",
       "3  160       55\n",
       "4  170       75"
      ]
     },
     "execution_count": 92,
     "metadata": {},
     "output_type": "execute_result"
    }
   ],
   "source": [
    "# create dictionary\n",
    "d2={'rno':[110,130,150,160,170],'science':[60,80,90,55,75]}\n",
    "#convert dictionary to dataframe\n",
    "df2=pd.DataFrame(d2)\n",
    "df2"
   ]
  },
  {
   "cell_type": "code",
   "execution_count": 93,
   "id": "66ba2850",
   "metadata": {},
   "outputs": [
    {
     "data": {
      "text/html": [
       "<div>\n",
       "<style scoped>\n",
       "    .dataframe tbody tr th:only-of-type {\n",
       "        vertical-align: middle;\n",
       "    }\n",
       "\n",
       "    .dataframe tbody tr th {\n",
       "        vertical-align: top;\n",
       "    }\n",
       "\n",
       "    .dataframe thead th {\n",
       "        text-align: right;\n",
       "    }\n",
       "</style>\n",
       "<table border=\"1\" class=\"dataframe\">\n",
       "  <thead>\n",
       "    <tr style=\"text-align: right;\">\n",
       "      <th></th>\n",
       "      <th>rno</th>\n",
       "      <th>maths</th>\n",
       "      <th>science</th>\n",
       "    </tr>\n",
       "  </thead>\n",
       "  <tbody>\n",
       "    <tr>\n",
       "      <th>0</th>\n",
       "      <td>110</td>\n",
       "      <td>67</td>\n",
       "      <td>60</td>\n",
       "    </tr>\n",
       "    <tr>\n",
       "      <th>1</th>\n",
       "      <td>130</td>\n",
       "      <td>92</td>\n",
       "      <td>80</td>\n",
       "    </tr>\n",
       "    <tr>\n",
       "      <th>2</th>\n",
       "      <td>150</td>\n",
       "      <td>75</td>\n",
       "      <td>90</td>\n",
       "    </tr>\n",
       "  </tbody>\n",
       "</table>\n",
       "</div>"
      ],
      "text/plain": [
       "   rno  maths  science\n",
       "0  110     67       60\n",
       "1  130     92       80\n",
       "2  150     75       90"
      ]
     },
     "execution_count": 93,
     "metadata": {},
     "output_type": "execute_result"
    }
   ],
   "source": [
    "#apply merge\n",
    "df3=pd.merge(df1,df2,on='rno') #Equal join means natural join by default\n",
    "df3"
   ]
  },
  {
   "cell_type": "code",
   "execution_count": 94,
   "id": "4b3092ae",
   "metadata": {},
   "outputs": [
    {
     "data": {
      "text/html": [
       "<div>\n",
       "<style scoped>\n",
       "    .dataframe tbody tr th:only-of-type {\n",
       "        vertical-align: middle;\n",
       "    }\n",
       "\n",
       "    .dataframe tbody tr th {\n",
       "        vertical-align: top;\n",
       "    }\n",
       "\n",
       "    .dataframe thead th {\n",
       "        text-align: right;\n",
       "    }\n",
       "</style>\n",
       "<table border=\"1\" class=\"dataframe\">\n",
       "  <thead>\n",
       "    <tr style=\"text-align: right;\">\n",
       "      <th></th>\n",
       "      <th>rno</th>\n",
       "      <th>maths</th>\n",
       "      <th>science</th>\n",
       "    </tr>\n",
       "  </thead>\n",
       "  <tbody>\n",
       "    <tr>\n",
       "      <th>0</th>\n",
       "      <td>110</td>\n",
       "      <td>67.0</td>\n",
       "      <td>60.0</td>\n",
       "    </tr>\n",
       "    <tr>\n",
       "      <th>1</th>\n",
       "      <td>120</td>\n",
       "      <td>89.0</td>\n",
       "      <td>NaN</td>\n",
       "    </tr>\n",
       "    <tr>\n",
       "      <th>2</th>\n",
       "      <td>130</td>\n",
       "      <td>92.0</td>\n",
       "      <td>80.0</td>\n",
       "    </tr>\n",
       "    <tr>\n",
       "      <th>3</th>\n",
       "      <td>140</td>\n",
       "      <td>55.0</td>\n",
       "      <td>NaN</td>\n",
       "    </tr>\n",
       "    <tr>\n",
       "      <th>4</th>\n",
       "      <td>150</td>\n",
       "      <td>75.0</td>\n",
       "      <td>90.0</td>\n",
       "    </tr>\n",
       "    <tr>\n",
       "      <th>5</th>\n",
       "      <td>160</td>\n",
       "      <td>NaN</td>\n",
       "      <td>55.0</td>\n",
       "    </tr>\n",
       "    <tr>\n",
       "      <th>6</th>\n",
       "      <td>170</td>\n",
       "      <td>NaN</td>\n",
       "      <td>75.0</td>\n",
       "    </tr>\n",
       "  </tbody>\n",
       "</table>\n",
       "</div>"
      ],
      "text/plain": [
       "   rno  maths  science\n",
       "0  110   67.0     60.0\n",
       "1  120   89.0      NaN\n",
       "2  130   92.0     80.0\n",
       "3  140   55.0      NaN\n",
       "4  150   75.0     90.0\n",
       "5  160    NaN     55.0\n",
       "6  170    NaN     75.0"
      ]
     },
     "execution_count": 94,
     "metadata": {},
     "output_type": "execute_result"
    }
   ],
   "source": [
    "#outer merge\n",
    "df4=pd.merge(df1,df2,on='rno',how='outer') \n",
    "df4"
   ]
  },
  {
   "cell_type": "code",
   "execution_count": 95,
   "id": "8ce1094c",
   "metadata": {},
   "outputs": [
    {
     "data": {
      "text/plain": [
       "rno        0\n",
       "maths      2\n",
       "science    2\n",
       "dtype: int64"
      ]
     },
     "execution_count": 95,
     "metadata": {},
     "output_type": "execute_result"
    }
   ],
   "source": [
    "#to check null values\n",
    "df4.isnull().sum()"
   ]
  },
  {
   "cell_type": "code",
   "execution_count": 96,
   "id": "713a7e86",
   "metadata": {},
   "outputs": [
    {
     "data": {
      "image/png": "[encoded data removed]",
      "text/plain": [
       "<Figure size 432x288 with 2 Axes>"
      ]
     },
     "metadata": {
      "needs_background": "light"
     },
     "output_type": "display_data"
    }
   ],
   "source": [
    "#visualize \n",
    "sns.heatmap(df4.isnull())\n",
    "plt.show()"
   ]
  },
  {
   "cell_type": "code",
   "execution_count": 97,
   "id": "1207bf50",
   "metadata": {},
   "outputs": [
    {
     "data": {
      "text/html": [
       "<div>\n",
       "<style scoped>\n",
       "    .dataframe tbody tr th:only-of-type {\n",
       "        vertical-align: middle;\n",
       "    }\n",
       "\n",
       "    .dataframe tbody tr th {\n",
       "        vertical-align: top;\n",
       "    }\n",
       "\n",
       "    .dataframe thead th {\n",
       "        text-align: right;\n",
       "    }\n",
       "</style>\n",
       "<table border=\"1\" class=\"dataframe\">\n",
       "  <thead>\n",
       "    <tr style=\"text-align: right;\">\n",
       "      <th></th>\n",
       "      <th>rno</th>\n",
       "      <th>python</th>\n",
       "    </tr>\n",
       "  </thead>\n",
       "  <tbody>\n",
       "    <tr>\n",
       "      <th>0</th>\n",
       "      <td>101</td>\n",
       "      <td>60</td>\n",
       "    </tr>\n",
       "    <tr>\n",
       "      <th>1</th>\n",
       "      <td>104</td>\n",
       "      <td>50</td>\n",
       "    </tr>\n",
       "    <tr>\n",
       "      <th>2</th>\n",
       "      <td>107</td>\n",
       "      <td>66</td>\n",
       "    </tr>\n",
       "    <tr>\n",
       "      <th>3</th>\n",
       "      <td>102</td>\n",
       "      <td>53</td>\n",
       "    </tr>\n",
       "  </tbody>\n",
       "</table>\n",
       "</div>"
      ],
      "text/plain": [
       "   rno  python\n",
       "0  101      60\n",
       "1  104      50\n",
       "2  107      66\n",
       "3  102      53"
      ]
     },
     "execution_count": 97,
     "metadata": {},
     "output_type": "execute_result"
    }
   ],
   "source": [
    "#Append function : -\n",
    "#First create a first dataframe df1 \n",
    "#first create a dictionary\n",
    "dic={'rno':[101,104,107,102],'python':[60,50,66,53]}\n",
    "#to convert dictionary into dataframe\n",
    "df1=pd.DataFrame(dic)\n",
    "df1"
   ]
  },
  {
   "cell_type": "code",
   "execution_count": 98,
   "id": "5933b95a",
   "metadata": {},
   "outputs": [
    {
     "data": {
      "text/html": [
       "<div>\n",
       "<style scoped>\n",
       "    .dataframe tbody tr th:only-of-type {\n",
       "        vertical-align: middle;\n",
       "    }\n",
       "\n",
       "    .dataframe tbody tr th {\n",
       "        vertical-align: top;\n",
       "    }\n",
       "\n",
       "    .dataframe thead th {\n",
       "        text-align: right;\n",
       "    }\n",
       "</style>\n",
       "<table border=\"1\" class=\"dataframe\">\n",
       "  <thead>\n",
       "    <tr style=\"text-align: right;\">\n",
       "      <th></th>\n",
       "      <th>rno</th>\n",
       "      <th>python</th>\n",
       "    </tr>\n",
       "  </thead>\n",
       "  <tbody>\n",
       "    <tr>\n",
       "      <th>0</th>\n",
       "      <td>103</td>\n",
       "      <td>89</td>\n",
       "    </tr>\n",
       "    <tr>\n",
       "      <th>1</th>\n",
       "      <td>110</td>\n",
       "      <td>56</td>\n",
       "    </tr>\n",
       "    <tr>\n",
       "      <th>2</th>\n",
       "      <td>104</td>\n",
       "      <td>79</td>\n",
       "    </tr>\n",
       "    <tr>\n",
       "      <th>3</th>\n",
       "      <td>105</td>\n",
       "      <td>73</td>\n",
       "    </tr>\n",
       "    <tr>\n",
       "      <th>4</th>\n",
       "      <td>108</td>\n",
       "      <td>67</td>\n",
       "    </tr>\n",
       "  </tbody>\n",
       "</table>\n",
       "</div>"
      ],
      "text/plain": [
       "   rno  python\n",
       "0  103      89\n",
       "1  110      56\n",
       "2  104      79\n",
       "3  105      73\n",
       "4  108      67"
      ]
     },
     "execution_count": 98,
     "metadata": {},
     "output_type": "execute_result"
    }
   ],
   "source": [
    "#First create a first dataframe df2 \n",
    "#first create a dictionary\n",
    "dic={'rno':[103,110,104,105,108],'python':[89,56,79,73,67]}\n",
    "#to convert dictionary into dataframe\n",
    "df2=pd.DataFrame(dic)\n",
    "df2"
   ]
  },
  {
   "cell_type": "code",
   "execution_count": 99,
   "id": "c72574ea",
   "metadata": {},
   "outputs": [
    {
     "data": {
      "text/html": [
       "<div>\n",
       "<style scoped>\n",
       "    .dataframe tbody tr th:only-of-type {\n",
       "        vertical-align: middle;\n",
       "    }\n",
       "\n",
       "    .dataframe tbody tr th {\n",
       "        vertical-align: top;\n",
       "    }\n",
       "\n",
       "    .dataframe thead th {\n",
       "        text-align: right;\n",
       "    }\n",
       "</style>\n",
       "<table border=\"1\" class=\"dataframe\">\n",
       "  <thead>\n",
       "    <tr style=\"text-align: right;\">\n",
       "      <th></th>\n",
       "      <th>rno</th>\n",
       "      <th>python</th>\n",
       "    </tr>\n",
       "  </thead>\n",
       "  <tbody>\n",
       "    <tr>\n",
       "      <th>0</th>\n",
       "      <td>101</td>\n",
       "      <td>60</td>\n",
       "    </tr>\n",
       "    <tr>\n",
       "      <th>1</th>\n",
       "      <td>104</td>\n",
       "      <td>50</td>\n",
       "    </tr>\n",
       "    <tr>\n",
       "      <th>2</th>\n",
       "      <td>107</td>\n",
       "      <td>66</td>\n",
       "    </tr>\n",
       "    <tr>\n",
       "      <th>3</th>\n",
       "      <td>102</td>\n",
       "      <td>53</td>\n",
       "    </tr>\n",
       "    <tr>\n",
       "      <th>4</th>\n",
       "      <td>103</td>\n",
       "      <td>89</td>\n",
       "    </tr>\n",
       "    <tr>\n",
       "      <th>5</th>\n",
       "      <td>110</td>\n",
       "      <td>56</td>\n",
       "    </tr>\n",
       "    <tr>\n",
       "      <th>6</th>\n",
       "      <td>104</td>\n",
       "      <td>79</td>\n",
       "    </tr>\n",
       "    <tr>\n",
       "      <th>7</th>\n",
       "      <td>105</td>\n",
       "      <td>73</td>\n",
       "    </tr>\n",
       "    <tr>\n",
       "      <th>8</th>\n",
       "      <td>108</td>\n",
       "      <td>67</td>\n",
       "    </tr>\n",
       "  </tbody>\n",
       "</table>\n",
       "</div>"
      ],
      "text/plain": [
       "   rno  python\n",
       "0  101      60\n",
       "1  104      50\n",
       "2  107      66\n",
       "3  102      53\n",
       "4  103      89\n",
       "5  110      56\n",
       "6  104      79\n",
       "7  105      73\n",
       "8  108      67"
      ]
     },
     "execution_count": 99,
     "metadata": {},
     "output_type": "execute_result"
    }
   ],
   "source": [
    "#Append function\n",
    "df3=df1.append(df2,ignore_index=True)\n",
    "df3"
   ]
  },
  {
   "cell_type": "code",
   "execution_count": 100,
   "id": "810e7087",
   "metadata": {},
   "outputs": [
    {
     "data": {
      "text/html": [
       "<div>\n",
       "<style scoped>\n",
       "    .dataframe tbody tr th:only-of-type {\n",
       "        vertical-align: middle;\n",
       "    }\n",
       "\n",
       "    .dataframe tbody tr th {\n",
       "        vertical-align: top;\n",
       "    }\n",
       "\n",
       "    .dataframe thead th {\n",
       "        text-align: right;\n",
       "    }\n",
       "</style>\n",
       "<table border=\"1\" class=\"dataframe\">\n",
       "  <thead>\n",
       "    <tr style=\"text-align: right;\">\n",
       "      <th></th>\n",
       "      <th>rno</th>\n",
       "      <th>python</th>\n",
       "    </tr>\n",
       "  </thead>\n",
       "  <tbody>\n",
       "    <tr>\n",
       "      <th>0</th>\n",
       "      <td>110</td>\n",
       "      <td>56</td>\n",
       "    </tr>\n",
       "    <tr>\n",
       "      <th>1</th>\n",
       "      <td>108</td>\n",
       "      <td>67</td>\n",
       "    </tr>\n",
       "    <tr>\n",
       "      <th>2</th>\n",
       "      <td>107</td>\n",
       "      <td>66</td>\n",
       "    </tr>\n",
       "    <tr>\n",
       "      <th>3</th>\n",
       "      <td>105</td>\n",
       "      <td>73</td>\n",
       "    </tr>\n",
       "    <tr>\n",
       "      <th>4</th>\n",
       "      <td>104</td>\n",
       "      <td>50</td>\n",
       "    </tr>\n",
       "    <tr>\n",
       "      <th>5</th>\n",
       "      <td>104</td>\n",
       "      <td>79</td>\n",
       "    </tr>\n",
       "    <tr>\n",
       "      <th>6</th>\n",
       "      <td>103</td>\n",
       "      <td>89</td>\n",
       "    </tr>\n",
       "    <tr>\n",
       "      <th>7</th>\n",
       "      <td>102</td>\n",
       "      <td>53</td>\n",
       "    </tr>\n",
       "    <tr>\n",
       "      <th>8</th>\n",
       "      <td>101</td>\n",
       "      <td>60</td>\n",
       "    </tr>\n",
       "  </tbody>\n",
       "</table>\n",
       "</div>"
      ],
      "text/plain": [
       "   rno  python\n",
       "0  110      56\n",
       "1  108      67\n",
       "2  107      66\n",
       "3  105      73\n",
       "4  104      50\n",
       "5  104      79\n",
       "6  103      89\n",
       "7  102      53\n",
       "8  101      60"
      ]
     },
     "execution_count": 100,
     "metadata": {},
     "output_type": "execute_result"
    }
   ],
   "source": [
    "#sorting : means to arrange records in ascending or descending order according\n",
    "#to particular column\n",
    "#use inbuilt method sort_values()\n",
    "df3.sort_values('rno',ignore_index=True,ascending=False)#descending order\n",
    "#bydefault ascending order but temporary"
   ]
  },
  {
   "cell_type": "code",
   "execution_count": 101,
   "id": "946d7f63",
   "metadata": {},
   "outputs": [],
   "source": [
    "#Visualise : use python\n",
    "#inbuilt library matplotlib and seaborn \n",
    "#first time install those library\n",
    "#!pip install libraryname"
   ]
  },
  {
   "cell_type": "code",
   "execution_count": 102,
   "id": "6416842e",
   "metadata": {},
   "outputs": [
    {
     "data": {
      "text/plain": [
       "'C:\\\\Users\\\\Meena Panday'"
      ]
     },
     "execution_count": 102,
     "metadata": {},
     "output_type": "execute_result"
    }
   ],
   "source": [
    "#types of graph :-\n",
    "#1.scatterplot : - \n",
    "import os\n",
    "os.getcwd()"
   ]
  },
  {
   "cell_type": "code",
   "execution_count": 103,
   "id": "e0c51a9c",
   "metadata": {},
   "outputs": [],
   "source": [
    "import pandas as pd\n",
    "import numpy as np\n",
    "import matplotlib.pyplot as plt\n",
    "import seaborn as sns\n",
    "import warnings\n",
    "warnings.filterwarnings('ignore')"
   ]
  },
  {
   "cell_type": "code",
   "execution_count": 104,
   "id": "cd4de481",
   "metadata": {},
   "outputs": [
    {
     "data": {
      "text/html": [
       "<div>\n",
       "<style scoped>\n",
       "    .dataframe tbody tr th:only-of-type {\n",
       "        vertical-align: middle;\n",
       "    }\n",
       "\n",
       "    .dataframe tbody tr th {\n",
       "        vertical-align: top;\n",
       "    }\n",
       "\n",
       "    .dataframe thead th {\n",
       "        text-align: right;\n",
       "    }\n",
       "</style>\n",
       "<table border=\"1\" class=\"dataframe\">\n",
       "  <thead>\n",
       "    <tr style=\"text-align: right;\">\n",
       "      <th></th>\n",
       "      <th>Area</th>\n",
       "      <th>Price</th>\n",
       "    </tr>\n",
       "  </thead>\n",
       "  <tbody>\n",
       "    <tr>\n",
       "      <th>0</th>\n",
       "      <td>2600</td>\n",
       "      <td>550000</td>\n",
       "    </tr>\n",
       "    <tr>\n",
       "      <th>1</th>\n",
       "      <td>3000</td>\n",
       "      <td>565000</td>\n",
       "    </tr>\n",
       "    <tr>\n",
       "      <th>2</th>\n",
       "      <td>3200</td>\n",
       "      <td>610000</td>\n",
       "    </tr>\n",
       "    <tr>\n",
       "      <th>3</th>\n",
       "      <td>3600</td>\n",
       "      <td>680000</td>\n",
       "    </tr>\n",
       "    <tr>\n",
       "      <th>4</th>\n",
       "      <td>4000</td>\n",
       "      <td>725000</td>\n",
       "    </tr>\n",
       "  </tbody>\n",
       "</table>\n",
       "</div>"
      ],
      "text/plain": [
       "   Area   Price\n",
       "0  2600  550000\n",
       "1  3000  565000\n",
       "2  3200  610000\n",
       "3  3600  680000\n",
       "4  4000  725000"
      ]
     },
     "execution_count": 104,
     "metadata": {},
     "output_type": "execute_result"
    }
   ],
   "source": [
    "#To Load dataset\n",
    "df=pd.read_csv('homeprices.csv')\n",
    "df"
   ]
  },
  {
   "cell_type": "code",
   "execution_count": 105,
   "id": "4db8d2e3",
   "metadata": {},
   "outputs": [
    {
     "data": {
      "image/png": "[encoded data removed]",
      "text/plain": [
       "<Figure size 432x288 with 1 Axes>"
      ]
     },
     "metadata": {
      "needs_background": "light"
     },
     "output_type": "display_data"
    }
   ],
   "source": [
    "#scatter plot : to check correlation between input Area and output Price\n",
    "plt.scatter(df['Area'],df['Price'],c='red',s=80,marker='s') \n",
    "#scatter(input variable,output variable)\n",
    "#c for color parameter \n",
    "#s means size of datapoint ,unit in pixel\n",
    "#pixel means smallest unit of graphics\n",
    "plt.xticks(df['Area'])\n",
    "plt.yticks(df['Price'])\n",
    "plt.xlabel('Area of House in Sq. Ft')\n",
    "plt.ylabel('Price of House in Rs.')\n",
    "plt.title(\"Area vs Price Graph\")\n",
    "plt.show()"
   ]
  },
  {
   "cell_type": "code",
   "execution_count": 106,
   "id": "7cf6b84d",
   "metadata": {},
   "outputs": [
    {
     "data": {
      "text/html": [
       "<div>\n",
       "<style scoped>\n",
       "    .dataframe tbody tr th:only-of-type {\n",
       "        vertical-align: middle;\n",
       "    }\n",
       "\n",
       "    .dataframe tbody tr th {\n",
       "        vertical-align: top;\n",
       "    }\n",
       "\n",
       "    .dataframe thead th {\n",
       "        text-align: right;\n",
       "    }\n",
       "</style>\n",
       "<table border=\"1\" class=\"dataframe\">\n",
       "  <thead>\n",
       "    <tr style=\"text-align: right;\">\n",
       "      <th></th>\n",
       "      <th>Unnamed: 0</th>\n",
       "      <th>TV</th>\n",
       "      <th>radio</th>\n",
       "      <th>newspaper</th>\n",
       "      <th>sales</th>\n",
       "    </tr>\n",
       "  </thead>\n",
       "  <tbody>\n",
       "    <tr>\n",
       "      <th>0</th>\n",
       "      <td>1</td>\n",
       "      <td>230.1</td>\n",
       "      <td>37.8</td>\n",
       "      <td>69.2</td>\n",
       "      <td>22.1</td>\n",
       "    </tr>\n",
       "    <tr>\n",
       "      <th>1</th>\n",
       "      <td>2</td>\n",
       "      <td>44.5</td>\n",
       "      <td>39.3</td>\n",
       "      <td>45.1</td>\n",
       "      <td>10.4</td>\n",
       "    </tr>\n",
       "    <tr>\n",
       "      <th>2</th>\n",
       "      <td>3</td>\n",
       "      <td>17.2</td>\n",
       "      <td>45.9</td>\n",
       "      <td>69.3</td>\n",
       "      <td>9.3</td>\n",
       "    </tr>\n",
       "    <tr>\n",
       "      <th>3</th>\n",
       "      <td>4</td>\n",
       "      <td>151.5</td>\n",
       "      <td>41.3</td>\n",
       "      <td>58.5</td>\n",
       "      <td>18.5</td>\n",
       "    </tr>\n",
       "    <tr>\n",
       "      <th>4</th>\n",
       "      <td>5</td>\n",
       "      <td>180.8</td>\n",
       "      <td>10.8</td>\n",
       "      <td>58.4</td>\n",
       "      <td>12.9</td>\n",
       "    </tr>\n",
       "  </tbody>\n",
       "</table>\n",
       "</div>"
      ],
      "text/plain": [
       "   Unnamed: 0     TV  radio  newspaper  sales\n",
       "0           1  230.1   37.8       69.2   22.1\n",
       "1           2   44.5   39.3       45.1   10.4\n",
       "2           3   17.2   45.9       69.3    9.3\n",
       "3           4  151.5   41.3       58.5   18.5\n",
       "4           5  180.8   10.8       58.4   12.9"
      ]
     },
     "execution_count": 106,
     "metadata": {},
     "output_type": "execute_result"
    }
   ],
   "source": [
    "#to load advertising dataset\n",
    "df=pd.read_csv('advertising.csv')\n",
    "#to show first 5 records\n",
    "df.head()"
   ]
  },
  {
   "cell_type": "code",
   "execution_count": 107,
   "id": "742724ce",
   "metadata": {},
   "outputs": [
    {
     "data": {
      "text/plain": [
       "(200, 5)"
      ]
     },
     "execution_count": 107,
     "metadata": {},
     "output_type": "execute_result"
    }
   ],
   "source": [
    "df.shape"
   ]
  },
  {
   "cell_type": "code",
   "execution_count": 108,
   "id": "ec62b1eb",
   "metadata": {},
   "outputs": [
    {
     "data": {
      "image/png": "[encoded data removed]",
      "text/plain": [
       "<Figure size 432x288 with 1 Axes>"
      ]
     },
     "metadata": {
      "needs_background": "light"
     },
     "output_type": "display_data"
    }
   ],
   "source": [
    "#first create a scatter pl;ot between input 'TV' and output 'sales'\n",
    "sns.scatterplot(data=df,x='TV',y='sales')#plt.scatter(df['TV'],df['sales'])\n",
    "plt.show()"
   ]
  },
  {
   "cell_type": "code",
   "execution_count": 109,
   "id": "bbba3bf0",
   "metadata": {},
   "outputs": [
    {
     "data": {
      "image/png": "[encoded data removed]",
      "text/plain": [
       "<Figure size 432x288 with 1 Axes>"
      ]
     },
     "metadata": {
      "needs_background": "light"
     },
     "output_type": "display_data"
    }
   ],
   "source": [
    "#scatter plot between input 'radio' and output 'sales'\n",
    "sns.scatterplot(data=df,x='radio',y='sales')#plt.scatter(df['radio'],df['sales'])\n",
    "plt.show()"
   ]
  },
  {
   "cell_type": "code",
   "execution_count": 110,
   "id": "be2d1d11",
   "metadata": {},
   "outputs": [
    {
     "data": {
      "image/png": "[encoded data removed]",
      "text/plain": [
       "<Figure size 432x288 with 1 Axes>"
      ]
     },
     "metadata": {
      "needs_background": "light"
     },
     "output_type": "display_data"
    }
   ],
   "source": [
    "#scatter plot between input 'newspaper' and output 'sales'\n",
    "sns.scatterplot(data=df,x='newspaper',y='sales')\n",
    "plt.show()"
   ]
  },
  {
   "cell_type": "code",
   "execution_count": 111,
   "id": "852dd595",
   "metadata": {},
   "outputs": [
    {
     "data": {
      "text/plain": [
       "Index(['Unnamed: 0', 'TV', 'radio', 'newspaper', 'sales'], dtype='object')"
      ]
     },
     "execution_count": 111,
     "metadata": {},
     "output_type": "execute_result"
    }
   ],
   "source": [
    "df.columns"
   ]
  },
  {
   "cell_type": "code",
   "execution_count": 112,
   "id": "622efe14",
   "metadata": {},
   "outputs": [
    {
     "data": {
      "image/png": "[encoded data removed]",
      "text/plain": [
       "<Figure size 432x288 with 1 Axes>"
      ]
     },
     "metadata": {
      "needs_background": "light"
     },
     "output_type": "display_data"
    },
    {
     "data": {
      "image/png": "[encoded data removed]",
      "text/plain": [
       "<Figure size 432x288 with 1 Axes>"
      ]
     },
     "metadata": {
      "needs_background": "light"
     },
     "output_type": "display_data"
    },
    {
     "data": {
      "image/png": "[encoded data removed]",
      "text/plain": [
       "<Figure size 432x288 with 1 Axes>"
      ]
     },
     "metadata": {
      "needs_background": "light"
     },
     "output_type": "display_data"
    }
   ],
   "source": [
    "columns=['TV', 'radio', 'newspaper'] #create a list of input columns\n",
    "\n",
    "for i,v in enumerate(columns):\n",
    "    sns.scatterplot(data=df,x=v,y='sales')\n",
    "    plt.show()"
   ]
  },
  {
   "cell_type": "code",
   "execution_count": 113,
   "id": "a6f841ea",
   "metadata": {},
   "outputs": [
    {
     "data": {
      "image/png": "[encoded data removed]",
      "text/plain": [
       "<Figure size 720x720 with 3 Axes>"
      ]
     },
     "metadata": {
      "needs_background": "light"
     },
     "output_type": "display_data"
    }
   ],
   "source": [
    "columns=['TV', 'radio', 'newspaper'] #create a list of input columns\n",
    "plt.figure(figsize=(10,10))\n",
    "for i,v in enumerate(columns):\n",
    "    plt.subplot(2,2,i+1)\n",
    "    sns.scatterplot(data=df,x=v,y='sales')\n",
    "plt.show()"
   ]
  },
  {
   "cell_type": "code",
   "execution_count": null,
   "id": "367d725d",
   "metadata": {},
   "outputs": [],
   "source": []
  }
 ],
 "metadata": {
  "kernelspec": {
   "display_name": "Python 3",
   "language": "python",
   "name": "python3"
  },
  "language_info": {
   "codemirror_mode": {
    "name": "ipython",
    "version": 3
   },
   "file_extension": ".py",
   "mimetype": "text/x-python",
   "name": "python",
   "nbconvert_exporter": "python",
   "pygments_lexer": "ipython3",
   "version": "3.8.10"
  }
 },
 "nbformat": 4,
 "nbformat_minor": 5
}
