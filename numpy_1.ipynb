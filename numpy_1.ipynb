{
 "cells": [
  {
   "cell_type": "code",
   "execution_count": 1,
   "id": "247b7f1b",
   "metadata": {},
   "outputs": [
    {
     "data": {
      "text/plain": [
       "'C:\\\\Users\\\\Meena Panday'"
      ]
     },
     "execution_count": 1,
     "metadata": {},
     "output_type": "execute_result"
    }
   ],
   "source": [
    "import os\n",
    "os.getcwd()"
   ]
  },
  {
   "cell_type": "code",
   "execution_count": 2,
   "id": "1e20f355",
   "metadata": {},
   "outputs": [],
   "source": [
    "#!pip install numpy"
   ]
  },
  {
   "cell_type": "code",
   "execution_count": 3,
   "id": "e5abf2af",
   "metadata": {},
   "outputs": [],
   "source": [
    "#call numpy library\n",
    "import numpy as np"
   ]
  },
  {
   "cell_type": "code",
   "execution_count": 4,
   "id": "7b4458bd",
   "metadata": {},
   "outputs": [
    {
     "data": {
      "text/plain": [
       "'1.18.5'"
      ]
     },
     "execution_count": 4,
     "metadata": {},
     "output_type": "execute_result"
    }
   ],
   "source": [
    "#to show version of numpy\n",
    "np.__version__"
   ]
  },
  {
   "cell_type": "code",
   "execution_count": 5,
   "id": "f997928f",
   "metadata": {},
   "outputs": [
    {
     "name": "stdout",
     "output_type": "stream",
     "text": [
      "Type of list :  <class 'list'>\n"
     ]
    }
   ],
   "source": [
    "#Create a 1D array with the help of list : -  \n",
    "L=[34,67,89,32,10]\n",
    "print(\"Type of list : \",type(L))"
   ]
  },
  {
   "cell_type": "code",
   "execution_count": 6,
   "id": "31c365c4",
   "metadata": {},
   "outputs": [
    {
     "name": "stdout",
     "output_type": "stream",
     "text": [
      "Type of A :  <class 'numpy.ndarray'>\n"
     ]
    }
   ],
   "source": [
    "#convert List L into 1D numpy array\n",
    "A=np.array(L) \n",
    "#array() inbuilt function of numpy library\n",
    "print(\"Type of A : \",type(A))"
   ]
  },
  {
   "cell_type": "code",
   "execution_count": 7,
   "id": "d84d81c5",
   "metadata": {},
   "outputs": [
    {
     "data": {
      "text/plain": [
       "1"
      ]
     },
     "execution_count": 7,
     "metadata": {},
     "output_type": "execute_result"
    }
   ],
   "source": [
    "#check which type of dimension  , use inbuilt method ndim\n",
    "A.ndim"
   ]
  },
  {
   "cell_type": "code",
   "execution_count": 8,
   "id": "aa3df7dc",
   "metadata": {},
   "outputs": [
    {
     "data": {
      "text/plain": [
       "(5,)"
      ]
     },
     "execution_count": 8,
     "metadata": {},
     "output_type": "execute_result"
    }
   ],
   "source": [
    "#How many roes and columns in given numpy array A , use inbuilt attributes\n",
    "#shape\n",
    "A.shape"
   ]
  },
  {
   "cell_type": "code",
   "execution_count": 9,
   "id": "b4159a0e",
   "metadata": {},
   "outputs": [
    {
     "data": {
      "text/plain": [
       "5"
      ]
     },
     "execution_count": 9,
     "metadata": {},
     "output_type": "execute_result"
    }
   ],
   "source": [
    "#To show no. of rows in given numpy array A\n",
    "A.shape[0]"
   ]
  },
  {
   "cell_type": "code",
   "execution_count": 10,
   "id": "1d4df89c",
   "metadata": {},
   "outputs": [
    {
     "data": {
      "text/plain": [
       "5"
      ]
     },
     "execution_count": 10,
     "metadata": {},
     "output_type": "execute_result"
    }
   ],
   "source": [
    "#To find the no. of elements in numpy array A , use inbuilt attributes size\n",
    "A.size"
   ]
  },
  {
   "cell_type": "code",
   "execution_count": 11,
   "id": "ad1934a1",
   "metadata": {},
   "outputs": [
    {
     "data": {
      "text/plain": [
       "5"
      ]
     },
     "execution_count": 11,
     "metadata": {},
     "output_type": "execute_result"
    }
   ],
   "source": [
    "#or len() \n",
    "len(A) #python's function"
   ]
  },
  {
   "cell_type": "code",
   "execution_count": 12,
   "id": "903239a5",
   "metadata": {},
   "outputs": [
    {
     "data": {
      "text/plain": [
       "dtype('int32')"
      ]
     },
     "execution_count": 12,
     "metadata": {},
     "output_type": "execute_result"
    }
   ],
   "source": [
    "#to check the datatype of numpy array A ,use inbuilt attributes : dtype\n",
    "A.dtype"
   ]
  },
  {
   "cell_type": "code",
   "execution_count": 13,
   "id": "4fb0f573",
   "metadata": {},
   "outputs": [
    {
     "data": {
      "text/plain": [
       "4"
      ]
     },
     "execution_count": 13,
     "metadata": {},
     "output_type": "execute_result"
    }
   ],
   "source": [
    "#to check byte occupy by each element of numpy array A , use inbuilt \n",
    "#attributes itemsize\n",
    "A.itemsize"
   ]
  },
  {
   "cell_type": "code",
   "execution_count": 14,
   "id": "f758899c",
   "metadata": {},
   "outputs": [
    {
     "data": {
      "text/plain": [
       "20"
      ]
     },
     "execution_count": 14,
     "metadata": {},
     "output_type": "execute_result"
    }
   ],
   "source": [
    "#Find total bytes occupied by Numpy Array A\n",
    "A.itemsize*A.size"
   ]
  },
  {
   "cell_type": "code",
   "execution_count": 15,
   "id": "9e16efcf",
   "metadata": {},
   "outputs": [
    {
     "data": {
      "text/plain": [
       "20"
      ]
     },
     "execution_count": 15,
     "metadata": {},
     "output_type": "execute_result"
    }
   ],
   "source": [
    "#direct use : nbytes : inbuilt attributes\n",
    "A.nbytes"
   ]
  },
  {
   "cell_type": "code",
   "execution_count": 16,
   "id": "c469cd47",
   "metadata": {},
   "outputs": [
    {
     "data": {
      "text/plain": [
       "'\\nInbuilt Attributes of numpy array :\\n1. ndim\\n2. size\\n3. dtype\\n4. shape\\n5. itemsize\\n6. nbytes\\n'"
      ]
     },
     "execution_count": 16,
     "metadata": {},
     "output_type": "execute_result"
    }
   ],
   "source": [
    "'''\n",
    "Inbuilt Attributes of numpy array :\n",
    "1. ndim\n",
    "2. size\n",
    "3. dtype\n",
    "4. shape\n",
    "5. itemsize\n",
    "6. nbytes\n",
    "'''"
   ]
  },
  {
   "cell_type": "code",
   "execution_count": 17,
   "id": "ed9fd899",
   "metadata": {},
   "outputs": [
    {
     "name": "stdout",
     "output_type": "stream",
     "text": [
      "[56.  78.9 43.  90.  32.  10. ]\n",
      "float64\n"
     ]
    }
   ],
   "source": [
    "#suppose create 1D array\n",
    "X=np.array([56,78.9,43,90,32,10])\n",
    "print(X)\n",
    "print(X.dtype)"
   ]
  },
  {
   "cell_type": "code",
   "execution_count": 18,
   "id": "f310f9a5",
   "metadata": {},
   "outputs": [
    {
     "name": "stdout",
     "output_type": "stream",
     "text": [
      "[12 34  1 90  0 67]\n",
      "int32\n"
     ]
    }
   ],
   "source": [
    "X=np.array([12,34,True,90,False,67])\n",
    "print(X)\n",
    "print(X.dtype)"
   ]
  },
  {
   "cell_type": "code",
   "execution_count": 19,
   "id": "345d2262",
   "metadata": {},
   "outputs": [
    {
     "name": "stdout",
     "output_type": "stream",
     "text": [
      "['12' '34' 'True' '90' 'False' '67']\n",
      "<U11\n"
     ]
    }
   ],
   "source": [
    "X=np.array([12,34,'True',90,'False',67])\n",
    "print(X)\n",
    "print(X.dtype)"
   ]
  },
  {
   "cell_type": "code",
   "execution_count": 20,
   "id": "1dde5e9f",
   "metadata": {},
   "outputs": [
    {
     "name": "stdout",
     "output_type": "stream",
     "text": [
      "[45 78 67 89 30 20]\n",
      "int32\n"
     ]
    }
   ],
   "source": [
    "A=np.array([45,78.8,67,89.4,30,20],int)\n",
    "print(A)\n",
    "print(A.dtype)"
   ]
  },
  {
   "cell_type": "code",
   "execution_count": 21,
   "id": "29cd90be",
   "metadata": {},
   "outputs": [
    {
     "name": "stdout",
     "output_type": "stream",
     "text": [
      "0   45\n",
      "1   78\n",
      "2   67\n",
      "3   89\n",
      "4   30\n",
      "5   20\n"
     ]
    }
   ],
   "source": [
    "#to extract data from numpy array X one by one\n",
    "for i,v in enumerate(A):\n",
    "    print(i,\" \",v)"
   ]
  },
  {
   "cell_type": "code",
   "execution_count": 22,
   "id": "f1f3ad2a",
   "metadata": {},
   "outputs": [],
   "source": [
    "import numpy as np"
   ]
  },
  {
   "cell_type": "code",
   "execution_count": 23,
   "id": "c59f4849",
   "metadata": {},
   "outputs": [
    {
     "name": "stdout",
     "output_type": "stream",
     "text": [
      "[45 67 89 23 10 76 43 45]\n"
     ]
    }
   ],
   "source": [
    "#Create a numpy 1D array\n",
    "A=np.array([45,67,89,23,10,76,43,45])\n",
    "print(A)"
   ]
  },
  {
   "cell_type": "code",
   "execution_count": 24,
   "id": "8d80df71",
   "metadata": {},
   "outputs": [
    {
     "data": {
      "text/plain": [
       "89"
      ]
     },
     "execution_count": 24,
     "metadata": {},
     "output_type": "execute_result"
    }
   ],
   "source": [
    "#Access Data from 1D Numpy Array : -\n",
    "#1. Through Indexing \n",
    "#Suppose access data at 2nd index means 3rd element\n",
    "A[2]"
   ]
  },
  {
   "cell_type": "code",
   "execution_count": 25,
   "id": "ff61d77c",
   "metadata": {},
   "outputs": [
    {
     "data": {
      "text/plain": [
       "array([67, 10])"
      ]
     },
     "execution_count": 25,
     "metadata": {},
     "output_type": "execute_result"
    }
   ],
   "source": [
    "#access data at 1st index and 4th index\n",
    "A[[1,4]]"
   ]
  },
  {
   "cell_type": "code",
   "execution_count": 26,
   "id": "cd05059d",
   "metadata": {},
   "outputs": [
    {
     "data": {
      "text/plain": [
       "array([67, 10])"
      ]
     },
     "execution_count": 26,
     "metadata": {},
     "output_type": "execute_result"
    }
   ],
   "source": [
    "#OR\n",
    "index=[1,4]\n",
    "A[index]"
   ]
  },
  {
   "cell_type": "code",
   "execution_count": 27,
   "id": "ef67a501",
   "metadata": {},
   "outputs": [
    {
     "data": {
      "text/plain": [
       "'\\nL=[34,67,89,32,14]\\nprint(L)\\nprint(type(L))\\nprint(L[[1,4]])\\n'"
      ]
     },
     "execution_count": 27,
     "metadata": {},
     "output_type": "execute_result"
    }
   ],
   "source": [
    "'''\n",
    "L=[34,67,89,32,14]\n",
    "print(L)\n",
    "print(type(L))\n",
    "print(L[[1,4]])\n",
    "'''"
   ]
  },
  {
   "cell_type": "code",
   "execution_count": 28,
   "id": "00c0b66f",
   "metadata": {},
   "outputs": [],
   "source": [
    "#Through Slicing : - arrayname[start index:stop index:step]\n",
    "#by default start index =0 if not given\n",
    "#by default stop index : till end if not given\n",
    "#by default step : +1 "
   ]
  },
  {
   "cell_type": "code",
   "execution_count": 29,
   "id": "50260e4f",
   "metadata": {},
   "outputs": [
    {
     "data": {
      "text/plain": [
       "array([45, 67, 89])"
      ]
     },
     "execution_count": 29,
     "metadata": {},
     "output_type": "execute_result"
    }
   ],
   "source": [
    "#To access first 3 elements from 1D numpy array \n",
    "A[:3]"
   ]
  },
  {
   "cell_type": "code",
   "execution_count": 30,
   "id": "2c134acb",
   "metadata": {},
   "outputs": [
    {
     "data": {
      "text/plain": [
       "array([76, 43])"
      ]
     },
     "execution_count": 30,
     "metadata": {},
     "output_type": "execute_result"
    }
   ],
   "source": [
    "A[-3:-1]"
   ]
  },
  {
   "cell_type": "code",
   "execution_count": 31,
   "id": "eb8a7513",
   "metadata": {},
   "outputs": [
    {
     "data": {
      "text/plain": [
       "array([45, 43, 76, 10, 23, 89, 67, 45])"
      ]
     },
     "execution_count": 31,
     "metadata": {},
     "output_type": "execute_result"
    }
   ],
   "source": [
    "A[::-1] #to print seires in reverse order"
   ]
  },
  {
   "cell_type": "code",
   "execution_count": 32,
   "id": "9ff7c524",
   "metadata": {},
   "outputs": [
    {
     "name": "stdout",
     "output_type": "stream",
     "text": [
      "[45 67 89 23 10 76 43 45]\n"
     ]
    },
    {
     "data": {
      "text/plain": [
       "array([67, 89, 76])"
      ]
     },
     "execution_count": 32,
     "metadata": {},
     "output_type": "execute_result"
    }
   ],
   "source": [
    "#3. Conditional Filtering : for data access\n",
    "#to access those record whose >60 , answer return True and\n",
    "#false\n",
    "print(A)\n",
    "A[A>60]"
   ]
  },
  {
   "cell_type": "code",
   "execution_count": 33,
   "id": "4951c00b",
   "metadata": {},
   "outputs": [
    {
     "data": {
      "text/plain": [
       "array([67, 89, 10, 76])"
      ]
     },
     "execution_count": 33,
     "metadata": {},
     "output_type": "execute_result"
    }
   ],
   "source": [
    "A[(A%2==0)|(A>=60)]"
   ]
  },
  {
   "cell_type": "code",
   "execution_count": 34,
   "id": "8898f61f",
   "metadata": {},
   "outputs": [
    {
     "data": {
      "text/plain": [
       "array([45, 67, 89, 23, 10, 76, 43, 45])"
      ]
     },
     "execution_count": 34,
     "metadata": {},
     "output_type": "execute_result"
    }
   ],
   "source": [
    "A"
   ]
  },
  {
   "cell_type": "code",
   "execution_count": 35,
   "id": "d090ca2d",
   "metadata": {},
   "outputs": [
    {
     "name": "stdout",
     "output_type": "stream",
     "text": [
      "[1 1 1 1 0 0 1 1]\n"
     ]
    }
   ],
   "source": [
    "#replace all even no. with 0 and odd no. with 1\n",
    "B=np.where(A%2==0,0,1)\n",
    "print(B)"
   ]
  },
  {
   "cell_type": "code",
   "execution_count": 36,
   "id": "50ac0375",
   "metadata": {},
   "outputs": [
    {
     "data": {
      "text/plain": [
       "array([45, 67, 89, 23, 10, 76, 43, 45])"
      ]
     },
     "execution_count": 36,
     "metadata": {},
     "output_type": "execute_result"
    }
   ],
   "source": [
    "A"
   ]
  },
  {
   "cell_type": "code",
   "execution_count": 37,
   "id": "7d5a0a91",
   "metadata": {},
   "outputs": [
    {
     "name": "stdout",
     "output_type": "stream",
     "text": [
      "[10 30 50 70 90]\n"
     ]
    }
   ],
   "source": [
    "#Another way to create a numpy 1D array \n",
    "#use inbuilt method arange() : similar work as range() in\n",
    "#python\n",
    "#arange(start,stop,step)\n",
    "X=np.arange(10,101,20)\n",
    "print(X)"
   ]
  },
  {
   "cell_type": "code",
   "execution_count": 38,
   "id": "fc874f42",
   "metadata": {},
   "outputs": [
    {
     "name": "stdout",
     "output_type": "stream",
     "text": [
      "[1. 1. 1. 1. 1. 1. 1. 1. 1. 1. 1. 1. 1. 1. 1. 1. 1. 1. 1. 1.]\n",
      "float64\n"
     ]
    }
   ],
   "source": [
    "#zeros() ,ones(),empty()\n",
    "Z=np.ones(20)\n",
    "print(Z)\n",
    "print(Z.dtype)"
   ]
  },
  {
   "cell_type": "code",
   "execution_count": 39,
   "id": "1a776bd1",
   "metadata": {},
   "outputs": [],
   "source": [
    "import numpy as np"
   ]
  },
  {
   "cell_type": "code",
   "execution_count": 40,
   "id": "10c24211",
   "metadata": {},
   "outputs": [
    {
     "name": "stdout",
     "output_type": "stream",
     "text": [
      "[[20 12 45 67]\n",
      " [30 87 40 29]\n",
      " [30 41 24 50]\n",
      " [32 87 64 87]]\n"
     ]
    }
   ],
   "source": [
    "#Create a 2D numpy array \n",
    "A=np.array([[20,12,45,67],[30,87,40,29],[30,41,24,50],[32,87,64,87]])\n",
    "print(A)"
   ]
  },
  {
   "cell_type": "code",
   "execution_count": 41,
   "id": "c877d1b7",
   "metadata": {},
   "outputs": [
    {
     "data": {
      "text/plain": [
       "2"
      ]
     },
     "execution_count": 41,
     "metadata": {},
     "output_type": "execute_result"
    }
   ],
   "source": [
    "#how many dimension\n",
    "A.ndim"
   ]
  },
  {
   "cell_type": "code",
   "execution_count": 42,
   "id": "f8431847",
   "metadata": {},
   "outputs": [
    {
     "data": {
      "text/plain": [
       "16"
      ]
     },
     "execution_count": 42,
     "metadata": {},
     "output_type": "execute_result"
    }
   ],
   "source": [
    "#How many no. of elements in given 2D array\n",
    "A.size"
   ]
  },
  {
   "cell_type": "code",
   "execution_count": 43,
   "id": "25d63b17",
   "metadata": {},
   "outputs": [
    {
     "data": {
      "text/plain": [
       "dtype('int32')"
      ]
     },
     "execution_count": 43,
     "metadata": {},
     "output_type": "execute_result"
    }
   ],
   "source": [
    "A.dtype"
   ]
  },
  {
   "cell_type": "code",
   "execution_count": 44,
   "id": "83743464",
   "metadata": {},
   "outputs": [
    {
     "data": {
      "text/plain": [
       "4"
      ]
     },
     "execution_count": 44,
     "metadata": {},
     "output_type": "execute_result"
    }
   ],
   "source": [
    "A.itemsize"
   ]
  },
  {
   "cell_type": "code",
   "execution_count": 45,
   "id": "d0277adb",
   "metadata": {},
   "outputs": [
    {
     "data": {
      "text/plain": [
       "64"
      ]
     },
     "execution_count": 45,
     "metadata": {},
     "output_type": "execute_result"
    }
   ],
   "source": [
    "#how many bytes occupied by 2D numpy array A\n",
    "A.nbytes #A.size*A.itemsize"
   ]
  },
  {
   "cell_type": "code",
   "execution_count": 46,
   "id": "5a1c64ff",
   "metadata": {},
   "outputs": [
    {
     "data": {
      "text/plain": [
       "50"
      ]
     },
     "execution_count": 46,
     "metadata": {},
     "output_type": "execute_result"
    }
   ],
   "source": [
    "#Access data from 2D numpy Array : -\n",
    "#1. Through Indexing    2. Through Slicing  3. Conditional filtering\n",
    "#1. Through Indexing : -\n",
    "#Suppose retrieve value at 2nd rowindex and 3rd column index\n",
    "A[2,3]"
   ]
  },
  {
   "cell_type": "code",
   "execution_count": 47,
   "id": "85cf94e4",
   "metadata": {},
   "outputs": [
    {
     "data": {
      "text/plain": [
       "array([30, 41, 24, 50])"
      ]
     },
     "execution_count": 47,
     "metadata": {},
     "output_type": "execute_result"
    }
   ],
   "source": [
    "#to retrieve all details means all columns of 3rd student(2nd row index)\n",
    "A[2,]"
   ]
  },
  {
   "cell_type": "code",
   "execution_count": 48,
   "id": "a03e7213",
   "metadata": {},
   "outputs": [
    {
     "data": {
      "text/plain": [
       "array([[30, 87, 40, 29],\n",
       "       [30, 41, 24, 50]])"
      ]
     },
     "execution_count": 48,
     "metadata": {},
     "output_type": "execute_result"
    }
   ],
   "source": [
    "#Through Slicing\n",
    "#retrieve all details of 1st row index and 2nd row index \n",
    "A[1:3,]"
   ]
  },
  {
   "cell_type": "code",
   "execution_count": 49,
   "id": "283bcae8",
   "metadata": {},
   "outputs": [
    {
     "data": {
      "text/plain": [
       "array([[12, 45],\n",
       "       [87, 40],\n",
       "       [41, 24],\n",
       "       [87, 64]])"
      ]
     },
     "execution_count": 49,
     "metadata": {},
     "output_type": "execute_result"
    }
   ],
   "source": [
    "#to retrieve element of 1st to 2nd col index of all rows\n",
    "A[:,1:3]"
   ]
  },
  {
   "cell_type": "code",
   "execution_count": 50,
   "id": "e7ce2963",
   "metadata": {},
   "outputs": [
    {
     "data": {
      "text/plain": [
       "array([67, 29, 50, 87])"
      ]
     },
     "execution_count": 50,
     "metadata": {},
     "output_type": "execute_result"
    }
   ],
   "source": [
    "#to show last columns of all rows\n",
    "A[:,-1]"
   ]
  },
  {
   "cell_type": "code",
   "execution_count": 51,
   "id": "8dc138f5",
   "metadata": {},
   "outputs": [
    {
     "data": {
      "text/plain": [
       "array([20, 12, 30, 40, 30, 24, 50, 32, 64])"
      ]
     },
     "execution_count": 51,
     "metadata": {},
     "output_type": "execute_result"
    }
   ],
   "source": [
    "A[A%2==0]"
   ]
  },
  {
   "cell_type": "code",
   "execution_count": 52,
   "id": "3699e200",
   "metadata": {},
   "outputs": [
    {
     "name": "stdout",
     "output_type": "stream",
     "text": [
      "[[20 12 45 67]\n",
      " [30 87 40 29]\n",
      " [30 41 24 50]\n",
      " [32 87 64 87]]\n"
     ]
    }
   ],
   "source": [
    "print(A)"
   ]
  },
  {
   "cell_type": "code",
   "execution_count": 53,
   "id": "e117735c",
   "metadata": {},
   "outputs": [
    {
     "data": {
      "text/plain": [
       "745"
      ]
     },
     "execution_count": 53,
     "metadata": {},
     "output_type": "execute_result"
    }
   ],
   "source": [
    "#To sum of all elements of 2D array A \n",
    "A.sum() #np.sum(A) #20+12+45+67+30+87+40+........"
   ]
  },
  {
   "cell_type": "code",
   "execution_count": 54,
   "id": "a85d3d03",
   "metadata": {},
   "outputs": [
    {
     "data": {
      "text/plain": [
       "array([144, 186, 145, 270])"
      ]
     },
     "execution_count": 54,
     "metadata": {},
     "output_type": "execute_result"
    }
   ],
   "source": [
    "#to find the sum of elements row wise (horizontally means axis=1)\n",
    "#A.sum(axis=1)\n",
    "#or\n",
    "np.sum(A,axis=1)"
   ]
  },
  {
   "cell_type": "code",
   "execution_count": 55,
   "id": "d4fe2b91",
   "metadata": {},
   "outputs": [
    {
     "data": {
      "text/plain": [
       "array([112, 227, 173, 233])"
      ]
     },
     "execution_count": 55,
     "metadata": {},
     "output_type": "execute_result"
    }
   ],
   "source": [
    "#to find the sum of elements column wise (vertically means axis=0)\n",
    "A.sum(axis=0)"
   ]
  },
  {
   "cell_type": "code",
   "execution_count": 56,
   "id": "b0e9020c",
   "metadata": {},
   "outputs": [
    {
     "name": "stdout",
     "output_type": "stream",
     "text": [
      "[[20 12 45 67]\n",
      " [30 87 40 29]\n",
      " [30 41 24 50]\n",
      " [32 87 64 87]]\n"
     ]
    }
   ],
   "source": [
    "print(A)"
   ]
  },
  {
   "cell_type": "code",
   "execution_count": 57,
   "id": "116536c2",
   "metadata": {},
   "outputs": [],
   "source": [
    "X=np.sort(A,axis=0)[::-1] #descending order"
   ]
  },
  {
   "cell_type": "code",
   "execution_count": 58,
   "id": "108db5d7",
   "metadata": {},
   "outputs": [
    {
     "data": {
      "text/plain": [
       "array([[32, 87, 64, 87],\n",
       "       [30, 87, 45, 67],\n",
       "       [30, 41, 40, 50],\n",
       "       [20, 12, 24, 29]])"
      ]
     },
     "execution_count": 58,
     "metadata": {},
     "output_type": "execute_result"
    }
   ],
   "source": [
    "X"
   ]
  },
  {
   "cell_type": "code",
   "execution_count": 59,
   "id": "84591642",
   "metadata": {},
   "outputs": [
    {
     "data": {
      "text/plain": [
       "array([[20, 12, 45, 67],\n",
       "       [30, 87, 40, 29],\n",
       "       [30, 41, 24, 50],\n",
       "       [32, 87, 64, 87]])"
      ]
     },
     "execution_count": 59,
     "metadata": {},
     "output_type": "execute_result"
    }
   ],
   "source": [
    "A"
   ]
  },
  {
   "cell_type": "code",
   "execution_count": 60,
   "id": "7e711a2d",
   "metadata": {},
   "outputs": [
    {
     "name": "stdout",
     "output_type": "stream",
     "text": [
      "[10 20 30 40 50 60 70 80]\n",
      "8\n",
      "1\n"
     ]
    }
   ],
   "source": [
    "#suppose we have 1D numpy array \n",
    "A=np.arange(10,81,10)\n",
    "print(A)\n",
    "print(A.size)\n",
    "print(A.ndim)"
   ]
  },
  {
   "cell_type": "code",
   "execution_count": 61,
   "id": "2bcb95b3",
   "metadata": {},
   "outputs": [],
   "source": [
    "#To change 1D numpy array to 2D numpy array\n",
    "B=A.reshape(2,4)"
   ]
  },
  {
   "cell_type": "code",
   "execution_count": 62,
   "id": "1fc5ebba",
   "metadata": {},
   "outputs": [
    {
     "data": {
      "text/plain": [
       "1"
      ]
     },
     "execution_count": 62,
     "metadata": {},
     "output_type": "execute_result"
    }
   ],
   "source": [
    "A.ndim"
   ]
  },
  {
   "cell_type": "code",
   "execution_count": 63,
   "id": "352a1d92",
   "metadata": {},
   "outputs": [
    {
     "data": {
      "text/plain": [
       "2"
      ]
     },
     "execution_count": 63,
     "metadata": {},
     "output_type": "execute_result"
    }
   ],
   "source": [
    "B.ndim"
   ]
  },
  {
   "cell_type": "code",
   "execution_count": 64,
   "id": "cf264d24",
   "metadata": {},
   "outputs": [
    {
     "name": "stdout",
     "output_type": "stream",
     "text": [
      "[[10 20 30 40]\n",
      " [50 60 70 80]]\n"
     ]
    }
   ],
   "source": [
    "print(B)"
   ]
  },
  {
   "cell_type": "code",
   "execution_count": 65,
   "id": "e542c015",
   "metadata": {},
   "outputs": [
    {
     "data": {
      "text/plain": [
       "array([10, 20, 30, 40, 50, 60, 70, 80])"
      ]
     },
     "execution_count": 65,
     "metadata": {},
     "output_type": "execute_result"
    }
   ],
   "source": [
    "#To converts 2D array into 1D array \n",
    "#1. ravel()  or 2.flatten()  or  3. reshape(-1)\n",
    "B.ravel()"
   ]
  },
  {
   "cell_type": "code",
   "execution_count": 66,
   "id": "009fab71",
   "metadata": {},
   "outputs": [
    {
     "data": {
      "text/plain": [
       "array([10, 20, 30, 40, 50, 60, 70, 80])"
      ]
     },
     "execution_count": 66,
     "metadata": {},
     "output_type": "execute_result"
    }
   ],
   "source": [
    "B.flatten()"
   ]
  },
  {
   "cell_type": "code",
   "execution_count": 67,
   "id": "f0b56075",
   "metadata": {},
   "outputs": [
    {
     "data": {
      "text/plain": [
       "array([10, 20, 30, 40, 50, 60, 70, 80])"
      ]
     },
     "execution_count": 67,
     "metadata": {},
     "output_type": "execute_result"
    }
   ],
   "source": [
    "B.reshape(-1)"
   ]
  },
  {
   "cell_type": "code",
   "execution_count": 68,
   "id": "4e1546c7",
   "metadata": {},
   "outputs": [
    {
     "name": "stdout",
     "output_type": "stream",
     "text": [
      "[[10 20 30 40]\n",
      " [50 60 70 80]]\n"
     ]
    }
   ],
   "source": [
    "print(B)"
   ]
  },
  {
   "cell_type": "code",
   "execution_count": 69,
   "id": "c70a2ede",
   "metadata": {},
   "outputs": [
    {
     "data": {
      "text/plain": [
       "array([[10, 50],\n",
       "       [20, 60],\n",
       "       [30, 70],\n",
       "       [40, 80]])"
      ]
     },
     "execution_count": 69,
     "metadata": {},
     "output_type": "execute_result"
    }
   ],
   "source": [
    "#transpose of matrix (means to converts row into column and column into row)\n",
    "#use inbuilt method transpose\n",
    "B.transpose()"
   ]
  },
  {
   "cell_type": "code",
   "execution_count": 70,
   "id": "191684d9",
   "metadata": {},
   "outputs": [
    {
     "data": {
      "text/plain": [
       "array([[10, 50],\n",
       "       [20, 60],\n",
       "       [30, 70],\n",
       "       [40, 80]])"
      ]
     },
     "execution_count": 70,
     "metadata": {},
     "output_type": "execute_result"
    }
   ],
   "source": [
    "B.T #transpose"
   ]
  },
  {
   "cell_type": "code",
   "execution_count": 71,
   "id": "216fd2bf",
   "metadata": {},
   "outputs": [
    {
     "name": "stdout",
     "output_type": "stream",
     "text": [
      "First MAtrix : \n",
      "[[1 2]\n",
      " [3 4]]\n",
      "Second Matrix : \n",
      "[[5 6]\n",
      " [7 8]]\n"
     ]
    }
   ],
   "source": [
    "#Sum of 2 matrix \n",
    "#create a 2 matrix X and Y\n",
    "X=np.array([[1,2],[3,4]])\n",
    "Y=np.array([[5,6],[7,8]])\n",
    "print(\"First MAtrix : \")\n",
    "print(X)\n",
    "print(\"Second Matrix : \")\n",
    "print(Y)"
   ]
  },
  {
   "cell_type": "code",
   "execution_count": 72,
   "id": "2154b20c",
   "metadata": {},
   "outputs": [
    {
     "data": {
      "text/plain": [
       "array([[ 6,  8],\n",
       "       [10, 12]])"
      ]
     },
     "execution_count": 72,
     "metadata": {},
     "output_type": "execute_result"
    }
   ],
   "source": [
    "#sum of matrix \n",
    "X+Y"
   ]
  },
  {
   "cell_type": "code",
   "execution_count": 73,
   "id": "58a5b01a",
   "metadata": {},
   "outputs": [
    {
     "data": {
      "text/plain": [
       "array([[-4, -4],\n",
       "       [-4, -4]])"
      ]
     },
     "execution_count": 73,
     "metadata": {},
     "output_type": "execute_result"
    }
   ],
   "source": [
    "#subtract of matrix\n",
    "X-Y"
   ]
  },
  {
   "cell_type": "code",
   "execution_count": 74,
   "id": "e239f335",
   "metadata": {},
   "outputs": [
    {
     "data": {
      "text/plain": [
       "array([[ 5, 12],\n",
       "       [21, 32]])"
      ]
     },
     "execution_count": 74,
     "metadata": {},
     "output_type": "execute_result"
    }
   ],
   "source": [
    "#cross multiplication\n",
    "X*Y"
   ]
  },
  {
   "cell_type": "code",
   "execution_count": 75,
   "id": "f1cd63f9",
   "metadata": {},
   "outputs": [
    {
     "data": {
      "text/plain": [
       "array([[19, 22],\n",
       "       [43, 50]])"
      ]
     },
     "execution_count": 75,
     "metadata": {},
     "output_type": "execute_result"
    }
   ],
   "source": [
    "#Dot multiplication or dot product\n",
    "X.dot(Y)"
   ]
  },
  {
   "cell_type": "code",
   "execution_count": 76,
   "id": "a0587d1b",
   "metadata": {},
   "outputs": [
    {
     "name": "stdout",
     "output_type": "stream",
     "text": [
      "[[1 2]\n",
      " [3 4]]\n"
     ]
    }
   ],
   "source": [
    "print(X)"
   ]
  },
  {
   "cell_type": "code",
   "execution_count": 77,
   "id": "6ca98f9e",
   "metadata": {},
   "outputs": [
    {
     "name": "stdout",
     "output_type": "stream",
     "text": [
      "[[5 6]\n",
      " [7 8]]\n"
     ]
    }
   ],
   "source": [
    "print(Y)"
   ]
  },
  {
   "cell_type": "code",
   "execution_count": 78,
   "id": "3c07e650",
   "metadata": {},
   "outputs": [
    {
     "name": "stdout",
     "output_type": "stream",
     "text": [
      "[[1 2 5 6]\n",
      " [3 4 7 8]]\n"
     ]
    }
   ],
   "source": [
    "#to join 2 2D array , use inbuilt method concatenate()\n",
    "#join horizontally means axis=1\n",
    "Z=np.concatenate((X,Y),axis=1)\n",
    "print(Z)"
   ]
  },
  {
   "cell_type": "code",
   "execution_count": 79,
   "id": "61968182",
   "metadata": {},
   "outputs": [
    {
     "data": {
      "text/plain": [
       "array([[1, 2],\n",
       "       [3, 4],\n",
       "       [5, 6],\n",
       "       [7, 8]])"
      ]
     },
     "execution_count": 79,
     "metadata": {},
     "output_type": "execute_result"
    }
   ],
   "source": [
    "np.concatenate((X,Y),axis=0) #vertically "
   ]
  },
  {
   "cell_type": "code",
   "execution_count": 80,
   "id": "16adec4b",
   "metadata": {},
   "outputs": [],
   "source": [
    "import numpy as np"
   ]
  },
  {
   "cell_type": "code",
   "execution_count": null,
   "id": "f0f8a92e",
   "metadata": {},
   "outputs": [],
   "source": [
    "#broadcasting "
   ]
  },
  {
   "cell_type": "code",
   "execution_count": 81,
   "id": "31051830",
   "metadata": {},
   "outputs": [
    {
     "name": "stdout",
     "output_type": "stream",
     "text": [
      "[[5 6]\n",
      " [7 8]]\n"
     ]
    }
   ],
   "source": [
    "#first create 2D numpy array\n",
    "A=np.array([[5,6],[7,8]])\n",
    "print(A)"
   ]
  },
  {
   "cell_type": "code",
   "execution_count": 82,
   "id": "1fd138e7",
   "metadata": {},
   "outputs": [],
   "source": [
    "B=5 #scaler vector"
   ]
  },
  {
   "cell_type": "code",
   "execution_count": 83,
   "id": "20501ce8",
   "metadata": {},
   "outputs": [
    {
     "data": {
      "text/plain": [
       "array([[10, 11],\n",
       "       [12, 13]])"
      ]
     },
     "execution_count": 83,
     "metadata": {},
     "output_type": "execute_result"
    }
   ],
   "source": [
    "A+B"
   ]
  },
  {
   "cell_type": "code",
   "execution_count": 84,
   "id": "a4b8c8b5",
   "metadata": {},
   "outputs": [
    {
     "data": {
      "text/plain": [
       "array([[5, 6],\n",
       "       [7, 8]])"
      ]
     },
     "execution_count": 84,
     "metadata": {},
     "output_type": "execute_result"
    }
   ],
   "source": [
    "A"
   ]
  },
  {
   "cell_type": "code",
   "execution_count": 85,
   "id": "ee8ea535",
   "metadata": {},
   "outputs": [
    {
     "data": {
      "text/plain": [
       "(1, 2)"
      ]
     },
     "execution_count": 85,
     "metadata": {},
     "output_type": "execute_result"
    }
   ],
   "source": [
    "B=np.array([[10,12]])\n",
    "B.shape"
   ]
  },
  {
   "cell_type": "code",
   "execution_count": 86,
   "id": "da06dc1b",
   "metadata": {},
   "outputs": [
    {
     "data": {
      "text/plain": [
       "array([[10, 12]])"
      ]
     },
     "execution_count": 86,
     "metadata": {},
     "output_type": "execute_result"
    }
   ],
   "source": [
    "B"
   ]
  },
  {
   "cell_type": "code",
   "execution_count": 87,
   "id": "f3a31649",
   "metadata": {},
   "outputs": [
    {
     "data": {
      "text/plain": [
       "array([[15, 18],\n",
       "       [17, 20]])"
      ]
     },
     "execution_count": 87,
     "metadata": {},
     "output_type": "execute_result"
    }
   ],
   "source": [
    "A+B   #[5   6] + [10  12]\n",
    "#       7   8     10  12"
   ]
  },
  {
   "cell_type": "code",
   "execution_count": null,
   "id": "667709aa",
   "metadata": {},
   "outputs": [],
   "source": [
    "'''\n",
    "[5   6] + [10 \n",
    "7   8      12 ]\n",
    "'''"
   ]
  },
  {
   "cell_type": "code",
   "execution_count": 88,
   "id": "e04b56ca",
   "metadata": {},
   "outputs": [
    {
     "data": {
      "text/plain": [
       "array([[5, 6],\n",
       "       [7, 8]])"
      ]
     },
     "execution_count": 88,
     "metadata": {},
     "output_type": "execute_result"
    }
   ],
   "source": [
    "A"
   ]
  },
  {
   "cell_type": "code",
   "execution_count": 90,
   "id": "1fe1e231",
   "metadata": {},
   "outputs": [
    {
     "data": {
      "text/plain": [
       "(2, 1)"
      ]
     },
     "execution_count": 90,
     "metadata": {},
     "output_type": "execute_result"
    }
   ],
   "source": [
    "B=np.array([[10],[12]])\n",
    "B.shape"
   ]
  },
  {
   "cell_type": "code",
   "execution_count": 91,
   "id": "9545d3ae",
   "metadata": {},
   "outputs": [
    {
     "data": {
      "text/plain": [
       "array([[10],\n",
       "       [12]])"
      ]
     },
     "execution_count": 91,
     "metadata": {},
     "output_type": "execute_result"
    }
   ],
   "source": [
    "B"
   ]
  },
  {
   "cell_type": "code",
   "execution_count": 92,
   "id": "0e30c2be",
   "metadata": {},
   "outputs": [
    {
     "data": {
      "text/plain": [
       "array([[15, 16],\n",
       "       [19, 20]])"
      ]
     },
     "execution_count": 92,
     "metadata": {},
     "output_type": "execute_result"
    }
   ],
   "source": [
    "A+B"
   ]
  },
  {
   "cell_type": "code",
   "execution_count": 93,
   "id": "a0c28e9c",
   "metadata": {},
   "outputs": [
    {
     "name": "stdout",
     "output_type": "stream",
     "text": [
      "[[0. 0. 0.]\n",
      " [0. 0. 0.]]\n"
     ]
    }
   ],
   "source": [
    "#2D array : zeros()\n",
    "Z=np.zeros((2,3)) #by default type float\n",
    "print(Z)"
   ]
  },
  {
   "cell_type": "code",
   "execution_count": 94,
   "id": "ed612753",
   "metadata": {},
   "outputs": [
    {
     "name": "stdout",
     "output_type": "stream",
     "text": [
      "[[0 0 0]\n",
      " [0 0 0]]\n"
     ]
    }
   ],
   "source": [
    "Z=np.zeros((2,3),int)\n",
    "print(Z)"
   ]
  },
  {
   "cell_type": "code",
   "execution_count": 96,
   "id": "58f9d023",
   "metadata": {},
   "outputs": [
    {
     "data": {
      "text/plain": [
       "dtype('float64')"
      ]
     },
     "execution_count": 96,
     "metadata": {},
     "output_type": "execute_result"
    }
   ],
   "source": [
    "X=np.ones((3,3))\n",
    "X.dtype"
   ]
  },
  {
   "cell_type": "code",
   "execution_count": 97,
   "id": "fb2451bc",
   "metadata": {},
   "outputs": [
    {
     "name": "stdout",
     "output_type": "stream",
     "text": [
      "[[1. 1. 1.]\n",
      " [1. 1. 1.]\n",
      " [1. 1. 1.]]\n"
     ]
    }
   ],
   "source": [
    "print(X)"
   ]
  },
  {
   "cell_type": "code",
   "execution_count": 98,
   "id": "f1de0095",
   "metadata": {},
   "outputs": [
    {
     "data": {
      "text/plain": [
       "array([[1., 0.],\n",
       "       [0., 1.]])"
      ]
     },
     "execution_count": 98,
     "metadata": {},
     "output_type": "execute_result"
    }
   ],
   "source": [
    "#Identity matrix \n",
    "I=np.identity(2) #unstood 2 by 2\n",
    "I"
   ]
  },
  {
   "cell_type": "code",
   "execution_count": 100,
   "id": "be866245",
   "metadata": {},
   "outputs": [
    {
     "data": {
      "text/plain": [
       "array([[1, 0, 0],\n",
       "       [0, 1, 0],\n",
       "       [0, 0, 1]])"
      ]
     },
     "execution_count": 100,
     "metadata": {},
     "output_type": "execute_result"
    }
   ],
   "source": [
    "I=np.identity(3,int) #no. of rows=3 and no. of cols=3\n",
    "I"
   ]
  },
  {
   "cell_type": "code",
   "execution_count": 102,
   "id": "d344e082",
   "metadata": {},
   "outputs": [
    {
     "data": {
      "text/plain": [
       "array([[1, 0, 0],\n",
       "       [0, 1, 0],\n",
       "       [0, 0, 1]])"
      ]
     },
     "execution_count": 102,
     "metadata": {},
     "output_type": "execute_result"
    }
   ],
   "source": [
    "#another way to create a identity matrix  : eye()\n",
    "I=np.eye(3,dtype='int')\n",
    "I"
   ]
  }
 ],
 "metadata": {
  "kernelspec": {
   "display_name": "Python 3",
   "language": "python",
   "name": "python3"
  },
  "language_info": {
   "codemirror_mode": {
    "name": "ipython",
    "version": 3
   },
   "file_extension": ".py",
   "mimetype": "text/x-python",
   "name": "python",
   "nbconvert_exporter": "python",
   "pygments_lexer": "ipython3",
   "version": "3.8.10"
  }
 },
 "nbformat": 4,
 "nbformat_minor": 5
}
